{
  "cells": [
    {
      "cell_type": "markdown",
      "metadata": {
        "id": "view-in-github",
        "colab_type": "text"
      },
      "source": [
        "<a href=\"https://colab.research.google.com/github/Shadabur-Rahaman/30-days-ml-projects/blob/main/Day_25_Bert_text_classification/notebooks/Day_25_Bert_text_classification.ipynb\" target=\"_parent\"><img src=\"https://colab.research.google.com/assets/colab-badge.svg\" alt=\"Open In Colab\"/></a>"
      ]
    },
    {
      "cell_type": "markdown",
      "id": "375006ae",
      "metadata": {
        "id": "375006ae"
      },
      "source": [
        "# BERT for Text Classification\n",
        "## Day 25/30 of Machine Learning Project\n",
        "\n",
        "**Project Goal**: Fine-tune BERT for sentiment classification using the IMDB movie reviews dataset."
      ]
    },
    {
      "cell_type": "markdown",
      "id": "cbca4327",
      "metadata": {
        "id": "cbca4327"
      },
      "source": [
        "## 1. Import Required Libraries"
      ]
    },
    {
      "cell_type": "code",
      "execution_count": null,
      "id": "50be2d19",
      "metadata": {
        "id": "50be2d19"
      },
      "outputs": [],
      "source": [
        "\n",
        "\n",
        "import numpy as np\n",
        "import pandas as pd\n",
        "import matplotlib.pyplot as plt\n",
        "\n",
        "from datasets import load_dataset, Dataset\n",
        "from sklearn.model_selection import train_test_split\n",
        "from sklearn.metrics import accuracy_score, f1_score, confusion_matrix, ConfusionMatrixDisplay\n",
        "\n",
        "import torch\n",
        "from torch.utils.data import DataLoader\n"
      ]
    },
    {
      "cell_type": "code",
      "execution_count": null,
      "id": "7iYtX-BF0-NC",
      "metadata": {
        "id": "7iYtX-BF0-NC"
      },
      "outputs": [],
      "source": [
        "from torch.optim import AdamW\n",
        "from transformers import (\n",
        "    BertTokenizerFast,\n",
        "    BertForSequenceClassification,\n",
        "    get_linear_schedule_with_warmup,\n",
        "    TrainingArguments,\n",
        "    Trainer\n",
        ")"
      ]
    },
    {
      "cell_type": "markdown",
      "id": "d9c7395e",
      "metadata": {
        "id": "d9c7395e"
      },
      "source": [
        "## 2. Load and Prepare the Dataset\n",
        "\n",
        "We'll use the IMDB movie reviews dataset for sentiment analysis (positive/negative)."
      ]
    },
    {
      "cell_type": "code",
      "execution_count": null,
      "id": "4ae4218a",
      "metadata": {
        "colab": {
          "base_uri": "https://localhost:8080/"
        },
        "id": "4ae4218a",
        "outputId": "0c4597bf-573b-448b-8bbf-29d4e6f9cf93"
      },
      "outputs": [
        {
          "name": "stdout",
          "output_type": "stream",
          "text": [
            "Train size: 4500\n",
            "Validation size: 500\n",
            "Test size: 1000\n",
            "\n",
            "Sample review:\n",
            "\"Hatred of a Minute\" is a hauntingly beautiful film. A psychological thriller that takes you on a journey through the nightmare that is the life of a serial killer, Eric Seaver. Strong performances and excellent cinematography make this film a \"must see\" for any film student or horror fan. The realness of the story and the human side of Eric separate this film from other psycho killer movies. Some shout outs to the film's producer, Bruce Campbell as well as to the film \"The Evil Dead\" add some humor for anyone that knows the genre.\n",
            "Label: Positive\n"
          ]
        }
      ],
      "source": [
        "\n",
        "\n",
        "import tensorflow_datasets as tfds\n",
        "import pandas as pd\n",
        "from sklearn.model_selection import train_test_split\n",
        "from datasets import Dataset\n",
        "\n",
        "# Load IMDB dataset from TFDS\n",
        "ds = tfds.load('imdb_reviews', split=['train', 'test'], as_supervised=True)\n",
        "train_ds, test_ds = ds[0], ds[1]\n",
        "\n",
        "# Convert to pandas DataFrames\n",
        "train_df = pd.DataFrame([(text.numpy().decode('utf-8'), label.numpy())\n",
        "                        for text, label in train_ds],\n",
        "                       columns=['text', 'label'])\n",
        "test_df = pd.DataFrame([(text.numpy().decode('utf-8'), label.numpy())\n",
        "                       for text, label in test_ds],\n",
        "                      columns=['text', 'label'])\n",
        "\n",
        "# Create smaller subsets for faster training\n",
        "train_df = train_df.sample(frac=1, random_state=42).reset_index(drop=True)\n",
        "train_df = train_df.iloc[:5000]\n",
        "\n",
        "test_df = test_df.sample(frac=1, random_state=42).reset_index(drop=True)\n",
        "test_df = test_df.iloc[:1000]\n",
        "\n",
        "# Split train into train and validation\n",
        "train_df, val_df = train_test_split(train_df, test_size=0.1, random_state=42)\n",
        "\n",
        "# Convert back to Hugging Face Dataset\n",
        "train_data = Dataset.from_pandas(train_df)\n",
        "val_data = Dataset.from_pandas(val_df)\n",
        "test_data = Dataset.from_pandas(test_df)\n",
        "\n",
        "# Inspect the dataset\n",
        "print(f\"Train size: {len(train_data)}\")\n",
        "print(f\"Validation size: {len(val_data)}\")\n",
        "print(f\"Test size: {len(test_data)}\")\n",
        "print(\"\\nSample review:\")\n",
        "print(train_data[0]['text'])\n",
        "print(f\"Label: {'Positive' if train_data[0]['label'] == 1 else 'Negative'}\")"
      ]
    },
    {
      "cell_type": "markdown",
      "id": "c0131c3a",
      "metadata": {
        "id": "c0131c3a"
      },
      "source": [
        "## 3. Initialize BERT Tokenizer"
      ]
    },
    {
      "cell_type": "code",
      "execution_count": null,
      "id": "616633d0",
      "metadata": {
        "colab": {
          "base_uri": "https://localhost:8080/",
          "height": 389,
          "referenced_widgets": [
            "cdf45b03d2864ef195906b68b92e77a4",
            "27e7837e8cdc4153b0096dfed197b360",
            "5cba71f768cc40658ecaadf9008ca01f",
            "d1590d86bd354f95982d02c4d8e0edd2",
            "994b95f709a041d9850119c314c289d0",
            "11e85085ee8a46c8aab8e10a7496b361",
            "dbc0a646935a421eb000023d0d55e5ce",
            "1f57cde053b04148a5af03bf29106c9a",
            "c51d222c20e5450eac3fa13cdd62fdf1",
            "b0e8b995f147421d8d9e955a0d12b19a",
            "b6f7f728409c43f8b9d7adc603d0a46f",
            "6547cd2c6ed7478aa8047ed425f37419",
            "df47690a51e94b8783c3e299472f6c57",
            "fe77269e76984f868498607cd111c450",
            "6e5383fc767d4ddebeb6fb61f493a39b",
            "24f80a2b1ae947dc95554ea356660de7",
            "8266a32a46b24bad880a9ff561a09a09",
            "46dac5962f364b58b84688b0390fff3d",
            "5d59b405f59541f3a52f989bc46909d5",
            "0a0a10238f5b41c585644e2569d2233b",
            "f5850b4e71d748a1b573b4065ab6518b",
            "3ab6af605515445fb0186217d9c71acc",
            "2e1d470adb7a4a6b87c069ccce48d1c8",
            "2824312456024a2c8ece056c81288972",
            "6cf5697e8d0940849fa44ce0206ad9d5",
            "3548b70403424dc399bf8640bc298850",
            "f7b1e388116843c09538bebf0e5a0eef",
            "de2fe7eaf8bc4f239cbd2615cc50ec0d",
            "2f75f7f2cde941839a06fd3c21fe39b0",
            "6f729e8773c543629980d46ba65b6060",
            "3d20beee703840eeaa58600325a8ff4e",
            "83f772b9be8545c2aa41846aab250572",
            "3304d0d2fc7e4a148f9fb02b7d4e8078",
            "d4363c7f6473443c8fff4a3a090ac664",
            "9b391f6221f84e44b68be0fb168c8d84",
            "88a971a1f1794ea9819c4312551f7174",
            "c937e58e72ab497c96ae449ad12e477b",
            "34f62634ddb141699048821ce10b9d95",
            "ff79bf7779764994962623bc4ff997bb",
            "0e61f786b0f2483bb4cfbec63145ec57",
            "db8fdb98b3da40c0bd845e75ecc07383",
            "416d08c980ae44729bc0d5891a9abdee",
            "0082c5d815c64f76974b4597e155da77",
            "7774925e9dad4466a7982b2eeeb5d6e4",
            "52e90fea1080454d953a4499c7723ba6",
            "00f2ef3824fa4286aa8dbae095ee3d90",
            "1beb69816919492abfce6887cd81aea0",
            "673ed6edb7f14e73a808f2e7921a0fb5",
            "962e542521524c3fa5b0736605ec2fd4",
            "820398ffd82c4102ba988e06148e3bf5",
            "749b495703eb4ff299877342071e1053",
            "879f0dc8a6ea485886fc88462eee64c2",
            "230ba28d86e64881932204afa977232b",
            "b60a386c48d44aa5809044e26dde30a5",
            "d176f4e66db04725a5439139225cbb55",
            "f5c3e7522f93436884b1b5d5e68bd97d",
            "c8575716db814333b296c5aa387de9b8",
            "29e9a9698d894bcd919c15f389ed6b8a",
            "e0c78e56fd8a4be1b0ab10cb6151a226",
            "1f75c4289b254a8ea66f1451c632cc96",
            "46411f7ca7ad42e39430a76e9ca9bc52",
            "56deb948f3c84e40ae1fa77467bed3f3",
            "af5e8f87bf3546b4990c4d5167853e73",
            "01a9f6da551441aba00222e38be99117",
            "6cbaa74bc1984a849ea78e908a79836f",
            "aafb78a499b54716b0a73badf90ab4da",
            "75694763ca3a4e23916cb7dd53c217ec",
            "e90676a5aca74c3f9c86f2c4323db2bc",
            "7662aaa8eaf94cd49ed9ffff34e1a75a",
            "258cd38deed34136a620ce5e05de5222",
            "4a16e1c574c3477db6dfc19b63235f0e",
            "00a0f45c286444559987211b82aef605",
            "60a7c2e3349a4a20a6a3ceb4284c957e",
            "fd73e27e4b87429e93ce8cffc57a6aa9",
            "f8176b19446345eba28566451d9f87c9",
            "82a1d0c6b9694940a441fe133ce92cbc",
            "33897ec5228a48778bfd99249bbde908"
          ]
        },
        "id": "616633d0",
        "outputId": "a5b30894-e055-46d8-8a16-bac93c06ac33"
      },
      "outputs": [
        {
          "name": "stderr",
          "output_type": "stream",
          "text": [
            "/usr/local/lib/python3.11/dist-packages/huggingface_hub/utils/_auth.py:94: UserWarning: \n",
            "The secret `HF_TOKEN` does not exist in your Colab secrets.\n",
            "To authenticate with the Hugging Face Hub, create a token in your settings tab (https://huggingface.co/settings/tokens), set it as secret in your Google Colab and restart your session.\n",
            "You will be able to reuse this secret in all of your notebooks.\n",
            "Please note that authentication is recommended but still optional to access public models or datasets.\n",
            "  warnings.warn(\n"
          ]
        },
        {
          "data": {
            "application/vnd.jupyter.widget-view+json": {
              "model_id": "cdf45b03d2864ef195906b68b92e77a4",
              "version_major": 2,
              "version_minor": 0
            },
            "text/plain": [
              "tokenizer_config.json:   0%|          | 0.00/48.0 [00:00<?, ?B/s]"
            ]
          },
          "metadata": {},
          "output_type": "display_data"
        },
        {
          "data": {
            "application/vnd.jupyter.widget-view+json": {
              "model_id": "6547cd2c6ed7478aa8047ed425f37419",
              "version_major": 2,
              "version_minor": 0
            },
            "text/plain": [
              "vocab.txt:   0%|          | 0.00/232k [00:00<?, ?B/s]"
            ]
          },
          "metadata": {},
          "output_type": "display_data"
        },
        {
          "data": {
            "application/vnd.jupyter.widget-view+json": {
              "model_id": "2e1d470adb7a4a6b87c069ccce48d1c8",
              "version_major": 2,
              "version_minor": 0
            },
            "text/plain": [
              "tokenizer.json:   0%|          | 0.00/466k [00:00<?, ?B/s]"
            ]
          },
          "metadata": {},
          "output_type": "display_data"
        },
        {
          "data": {
            "application/vnd.jupyter.widget-view+json": {
              "model_id": "d4363c7f6473443c8fff4a3a090ac664",
              "version_major": 2,
              "version_minor": 0
            },
            "text/plain": [
              "config.json:   0%|          | 0.00/570 [00:00<?, ?B/s]"
            ]
          },
          "metadata": {},
          "output_type": "display_data"
        },
        {
          "data": {
            "application/vnd.jupyter.widget-view+json": {
              "model_id": "52e90fea1080454d953a4499c7723ba6",
              "version_major": 2,
              "version_minor": 0
            },
            "text/plain": [
              "Map:   0%|          | 0/4500 [00:00<?, ? examples/s]"
            ]
          },
          "metadata": {},
          "output_type": "display_data"
        },
        {
          "data": {
            "application/vnd.jupyter.widget-view+json": {
              "model_id": "f5c3e7522f93436884b1b5d5e68bd97d",
              "version_major": 2,
              "version_minor": 0
            },
            "text/plain": [
              "Map:   0%|          | 0/500 [00:00<?, ? examples/s]"
            ]
          },
          "metadata": {},
          "output_type": "display_data"
        },
        {
          "data": {
            "application/vnd.jupyter.widget-view+json": {
              "model_id": "75694763ca3a4e23916cb7dd53c217ec",
              "version_major": 2,
              "version_minor": 0
            },
            "text/plain": [
              "Map:   0%|          | 0/1000 [00:00<?, ? examples/s]"
            ]
          },
          "metadata": {},
          "output_type": "display_data"
        },
        {
          "name": "stdout",
          "output_type": "stream",
          "text": [
            "Tokenization complete.\n"
          ]
        }
      ],
      "source": [
        "# Load BERT tokenizer\n",
        "model_name = 'bert-base-uncased'\n",
        "tokenizer = BertTokenizerFast.from_pretrained(model_name)\n",
        "\n",
        "# Tokenization function\n",
        "def tokenize_function(examples):\n",
        "    return tokenizer(\n",
        "        examples['text'],\n",
        "        padding='max_length',\n",
        "        truncation=True,\n",
        "        max_length=256\n",
        "    )\n",
        "\n",
        "# Tokenize datasets\n",
        "train_data = train_data.map(tokenize_function, batched=True)\n",
        "val_data = val_data.map(tokenize_function, batched=True)\n",
        "test_data = test_data.map(tokenize_function, batched=True)\n",
        "\n",
        "# Set format for PyTorch\n",
        "train_data.set_format(type='torch', columns=['input_ids', 'attention_mask', 'label'])\n",
        "val_data.set_format(type='torch', columns=['input_ids', 'attention_mask', 'label'])\n",
        "test_data.set_format(type='torch', columns=['input_ids', 'attention_mask', 'label'])\n",
        "\n",
        "print(\"Tokenization complete.\")"
      ]
    },
    {
      "cell_type": "markdown",
      "id": "edc99231",
      "metadata": {
        "id": "edc99231"
      },
      "source": [
        "## 4. Create DataLoaders"
      ]
    },
    {
      "cell_type": "code",
      "execution_count": null,
      "id": "5e9bc7e5",
      "metadata": {
        "colab": {
          "base_uri": "https://localhost:8080/"
        },
        "id": "5e9bc7e5",
        "outputId": "12cae645-6408-4036-c75f-632da068e8b3"
      },
      "outputs": [
        {
          "name": "stdout",
          "output_type": "stream",
          "text": [
            "Loading training data...\n",
            "Processed 1001 samples\n",
            "Processed 2001 samples\n",
            "Processed 3001 samples\n",
            "Processed 4001 samples\n",
            "Loading test data...\n",
            "Tokenizing training data...\n",
            "Tokenized 500/4500 samples\n",
            "Tokenized 1000/4500 samples\n",
            "Tokenized 1500/4500 samples\n",
            "Tokenized 2000/4500 samples\n",
            "Tokenized 2500/4500 samples\n",
            "Tokenized 3000/4500 samples\n",
            "Tokenized 3500/4500 samples\n",
            "Tokenized 4000/4500 samples\n",
            "Tokenized 4500/4500 samples\n",
            "Tokenizing validation data...\n",
            "Tokenized 500/500 samples\n",
            "Tokenizing test data...\n",
            "Tokenized 500/1000 samples\n",
            "Tokenized 1000/1000 samples\n",
            "\n",
            "Batch successfully loaded!\n",
            "Input IDs shape: torch.Size([16, 256])\n",
            "Attention mask shape: torch.Size([16, 256])\n",
            "Labels shape: torch.Size([16])\n"
          ]
        }
      ],
      "source": [
        "import tensorflow_datasets as tfds\n",
        "import pandas as pd\n",
        "from sklearn.model_selection import train_test_split\n",
        "import numpy as np\n",
        "from transformers import BertTokenizerFast\n",
        "from torch.utils.data import TensorDataset, DataLoader\n",
        "import torch\n",
        "\n",
        "# Load IMDB dataset from TFDS in batches\n",
        "def load_tfds_in_batches(split, batch_size=1000, max_samples=None):\n",
        "    texts = []\n",
        "    labels = []\n",
        "    dataset = tfds.load('imdb_reviews', split=split, as_supervised=True)\n",
        "\n",
        "    for i, (text, label) in enumerate(dataset):\n",
        "        if max_samples and i >= max_samples:\n",
        "            break\n",
        "        texts.append(text.numpy().decode('utf-8'))\n",
        "        labels.append(label.numpy())\n",
        "\n",
        "        # Process in batches to avoid memory issues\n",
        "        if i % batch_size == 0 and i > 0:\n",
        "            print(f\"Processed {i+1} samples\")\n",
        "\n",
        "    return texts, labels\n",
        "\n",
        "# Load data in smaller batches\n",
        "print(\"Loading training data...\")\n",
        "train_texts, train_labels = load_tfds_in_batches('train', max_samples=5000)\n",
        "print(\"Loading test data...\")\n",
        "test_texts, test_labels = load_tfds_in_batches('test', max_samples=1000)\n",
        "\n",
        "# Split train into train and validation\n",
        "train_texts, val_texts, train_labels, val_labels = train_test_split(\n",
        "    train_texts, train_labels, test_size=0.1, random_state=42\n",
        ")\n",
        "\n",
        "# Load BERT tokenizer\n",
        "model_name = 'bert-base-uncased'\n",
        "tokenizer = BertTokenizerFast.from_pretrained(model_name)\n",
        "\n",
        "# Tokenize in batches to avoid memory issues\n",
        "def tokenize_in_batches(texts, labels, batch_size=500):\n",
        "    all_input_ids = []\n",
        "    all_attention_mask = []\n",
        "    all_labels = []\n",
        "\n",
        "    for i in range(0, len(texts), batch_size):\n",
        "        batch_texts = texts[i:i+batch_size]\n",
        "        batch_labels = labels[i:i+batch_size]\n",
        "\n",
        "        encodings = tokenizer(\n",
        "            batch_texts,\n",
        "            padding='max_length',\n",
        "            truncation=True,\n",
        "            max_length=256,\n",
        "            return_tensors='pt'\n",
        "        )\n",
        "\n",
        "        all_input_ids.append(encodings['input_ids'])\n",
        "        all_attention_mask.append(encodings['attention_mask'])\n",
        "        all_labels.append(torch.tensor(batch_labels))\n",
        "\n",
        "        print(f\"Tokenized {min(i+batch_size, len(texts))}/{len(texts)} samples\")\n",
        "\n",
        "    return TensorDataset(\n",
        "        torch.cat(all_input_ids),\n",
        "        torch.cat(all_attention_mask),\n",
        "        torch.cat(all_labels)\n",
        "    )\n",
        "\n",
        "# Create datasets with batched tokenization\n",
        "print(\"Tokenizing training data...\")\n",
        "train_dataset = tokenize_in_batches(train_texts, train_labels)\n",
        "print(\"Tokenizing validation data...\")\n",
        "val_dataset = tokenize_in_batches(val_texts, val_labels)\n",
        "print(\"Tokenizing test data...\")\n",
        "test_dataset = tokenize_in_batches(test_texts, test_labels)\n",
        "\n",
        "# Create DataLoaders\n",
        "batch_size = 16\n",
        "train_loader = DataLoader(train_dataset, batch_size=batch_size, shuffle=True)\n",
        "val_loader = DataLoader(val_dataset, batch_size=batch_size)\n",
        "test_loader = DataLoader(test_dataset, batch_size=batch_size)\n",
        "\n",
        "# Test a batch\n",
        "batch = next(iter(train_loader))\n",
        "input_ids, attention_mask, labels = batch\n",
        "print(\"\\nBatch successfully loaded!\")\n",
        "print(\"Input IDs shape:\", input_ids.shape)\n",
        "print(\"Attention mask shape:\", attention_mask.shape)\n",
        "print(\"Labels shape:\", labels.shape)"
      ]
    },
    {
      "cell_type": "markdown",
      "id": "459b75f8",
      "metadata": {
        "id": "459b75f8"
      },
      "source": [
        "## 5. Initialize BERT Model"
      ]
    },
    {
      "cell_type": "code",
      "execution_count": null,
      "id": "972f384f",
      "metadata": {
        "colab": {
          "base_uri": "https://localhost:8080/",
          "height": 598,
          "referenced_widgets": [
            "cabfbed147dc47f2a1d61b772f2c88f6",
            "962b92b329434587b0a085b2117f0086",
            "6c1ecc9ba4d34dacbc92de05054124c2",
            "3a33ade272b04040a6bd736f674bee01",
            "7f1bc5d32d1b4d4cbc157f8e85c794dc",
            "f53a4ba3e62d4d85ba678b025fb0bc7a",
            "674562a747b146a396bc9539e52c9c5b",
            "c08b9c00ffbe4404af98c898d58f9822",
            "1d223d65eeb24dd8b6770cd2f5f4713e",
            "0678497aef034580b86e5c91a107c0a2",
            "6d5a7924257b42b59766bab2ea2a51a7"
          ]
        },
        "id": "972f384f",
        "outputId": "625678b6-c7f0-45a2-aea9-457b9b38455f"
      },
      "outputs": [
        {
          "data": {
            "application/vnd.jupyter.widget-view+json": {
              "model_id": "cabfbed147dc47f2a1d61b772f2c88f6",
              "version_major": 2,
              "version_minor": 0
            },
            "text/plain": [
              "model.safetensors:   0%|          | 0.00/440M [00:00<?, ?B/s]"
            ]
          },
          "metadata": {},
          "output_type": "display_data"
        },
        {
          "name": "stderr",
          "output_type": "stream",
          "text": [
            "Some weights of BertForSequenceClassification were not initialized from the model checkpoint at bert-base-uncased and are newly initialized: ['classifier.bias', 'classifier.weight']\n",
            "You should probably TRAIN this model on a down-stream task to be able to use it for predictions and inference.\n"
          ]
        },
        {
          "name": "stdout",
          "output_type": "stream",
          "text": [
            "Model loaded on cuda\n",
            "BertConfig {\n",
            "  \"architectures\": [\n",
            "    \"BertForMaskedLM\"\n",
            "  ],\n",
            "  \"attention_probs_dropout_prob\": 0.1,\n",
            "  \"classifier_dropout\": null,\n",
            "  \"gradient_checkpointing\": false,\n",
            "  \"hidden_act\": \"gelu\",\n",
            "  \"hidden_dropout_prob\": 0.1,\n",
            "  \"hidden_size\": 768,\n",
            "  \"initializer_range\": 0.02,\n",
            "  \"intermediate_size\": 3072,\n",
            "  \"layer_norm_eps\": 1e-12,\n",
            "  \"max_position_embeddings\": 512,\n",
            "  \"model_type\": \"bert\",\n",
            "  \"num_attention_heads\": 12,\n",
            "  \"num_hidden_layers\": 12,\n",
            "  \"pad_token_id\": 0,\n",
            "  \"position_embedding_type\": \"absolute\",\n",
            "  \"torch_dtype\": \"float32\",\n",
            "  \"transformers_version\": \"4.52.4\",\n",
            "  \"type_vocab_size\": 2,\n",
            "  \"use_cache\": true,\n",
            "  \"vocab_size\": 30522\n",
            "}\n",
            "\n"
          ]
        }
      ],
      "source": [
        "# Load BERT model for sequence classification\n",
        "device = torch.device('cuda' if torch.cuda.is_available() else 'cpu')\n",
        "model = BertForSequenceClassification.from_pretrained(\n",
        "    model_name,\n",
        "    num_labels=2\n",
        ").to(device)\n",
        "\n",
        "print(f\"Model loaded on {device}\")\n",
        "print(model.config)"
      ]
    },
    {
      "cell_type": "markdown",
      "id": "cbd0400b",
      "metadata": {
        "id": "cbd0400b"
      },
      "source": [
        "## 6. Set Up Training Configuration"
      ]
    },
    {
      "cell_type": "code",
      "execution_count": null,
      "id": "18154413",
      "metadata": {
        "id": "18154413"
      },
      "outputs": [],
      "source": [
        "# Training parameters\n",
        "epochs = 3\n",
        "learning_rate = 2e-5\n",
        "\n",
        "# Optimizer and scheduler\n",
        "optimizer = AdamW(model.parameters(), lr=learning_rate)\n",
        "total_steps = len(train_loader) * epochs\n",
        "scheduler = get_linear_schedule_with_warmup(\n",
        "    optimizer,\n",
        "    num_warmup_steps=0,\n",
        "    num_training_steps=total_steps\n",
        ")"
      ]
    },
    {
      "cell_type": "markdown",
      "id": "75472a86",
      "metadata": {
        "id": "75472a86"
      },
      "source": [
        "## 7. Training Loop"
      ]
    },
    {
      "cell_type": "code",
      "execution_count": null,
      "id": "afb0257d",
      "metadata": {
        "colab": {
          "base_uri": "https://localhost:8080/"
        },
        "id": "afb0257d",
        "outputId": "03618471-8678-4fdd-fcb1-b16d574c84e1"
      },
      "outputs": [
        {
          "name": "stdout",
          "output_type": "stream",
          "text": [
            "Epoch 1/3\n",
            "Train Loss: 0.3604\n",
            "Val Loss: 0.2619\n",
            "Val Accuracy: 0.9082\n",
            "\n",
            "Epoch 2/3\n",
            "Train Loss: 0.1759\n",
            "Val Loss: 0.2333\n",
            "Val Accuracy: 0.9121\n",
            "\n",
            "Epoch 3/3\n",
            "Train Loss: 0.0880\n",
            "Val Loss: 0.2721\n",
            "Val Accuracy: 0.9141\n",
            "\n"
          ]
        }
      ],
      "source": [
        "# Function to calculate accuracy\n",
        "def flat_accuracy(preds, labels):\n",
        "    pred_flat = np.argmax(preds, axis=1).flatten()\n",
        "    labels_flat = labels.flatten()\n",
        "    return np.sum(pred_flat == labels_flat) / len(labels_flat)\n",
        "\n",
        "# Training and validation\n",
        "train_losses = []\n",
        "val_losses = []\n",
        "val_accuracies = []\n",
        "\n",
        "for epoch in range(epochs):\n",
        "    # Training\n",
        "    model.train()\n",
        "    total_train_loss = 0\n",
        "\n",
        "    for batch in train_loader:\n",
        "        # Unpack the batch tuple\n",
        "        input_ids = batch[0].to(device)\n",
        "        attention_mask = batch[1].to(device)\n",
        "        labels = batch[2].to(device)\n",
        "\n",
        "        # Forward pass\n",
        "        outputs = model(input_ids,\n",
        "                       attention_mask=attention_mask,\n",
        "                       labels=labels)\n",
        "        loss = outputs.loss\n",
        "        total_train_loss += loss.item()\n",
        "\n",
        "        # Backward pass\n",
        "        loss.backward()\n",
        "\n",
        "        # Update parameters\n",
        "        optimizer.step()\n",
        "        scheduler.step()\n",
        "        optimizer.zero_grad()\n",
        "\n",
        "    # Calculate average training loss\n",
        "    avg_train_loss = total_train_loss / len(train_loader)\n",
        "    train_losses.append(avg_train_loss)\n",
        "\n",
        "    # Validation\n",
        "    model.eval()\n",
        "    total_val_loss = 0\n",
        "    total_val_accuracy = 0\n",
        "\n",
        "    for batch in val_loader:\n",
        "        # Unpack the batch tuple\n",
        "        input_ids = batch[0].to(device)\n",
        "        attention_mask = batch[1].to(device)\n",
        "        labels = batch[2].to(device)\n",
        "\n",
        "        with torch.no_grad():\n",
        "            outputs = model(input_ids,\n",
        "                           attention_mask=attention_mask,\n",
        "                           labels=labels)\n",
        "\n",
        "        loss = outputs.loss\n",
        "        logits = outputs.logits\n",
        "\n",
        "        # Calculate accuracy\n",
        "        logits = logits.detach().cpu().numpy()\n",
        "        label_ids = labels.to('cpu').numpy()\n",
        "        total_val_loss += loss.item()\n",
        "        total_val_accuracy += flat_accuracy(logits, label_ids)\n",
        "\n",
        "    avg_val_loss = total_val_loss / len(val_loader)\n",
        "    avg_val_accuracy = total_val_accuracy / len(val_loader)\n",
        "\n",
        "    val_losses.append(avg_val_loss)\n",
        "    val_accuracies.append(avg_val_accuracy)\n",
        "\n",
        "    print(f\"Epoch {epoch+1}/{epochs}\")\n",
        "    print(f\"Train Loss: {avg_train_loss:.4f}\")\n",
        "    print(f\"Val Loss: {avg_val_loss:.4f}\")\n",
        "    print(f\"Val Accuracy: {avg_val_accuracy:.4f}\\n\")"
      ]
    },
    {
      "cell_type": "markdown",
      "id": "b2ca0f92",
      "metadata": {
        "id": "b2ca0f92"
      },
      "source": [
        "## 8. Plot Training Metrics"
      ]
    },
    {
      "cell_type": "code",
      "execution_count": null,
      "id": "b3d87e78",
      "metadata": {
        "colab": {
          "base_uri": "https://localhost:8080/",
          "height": 507
        },
        "id": "b3d87e78",
        "outputId": "62fd8fc2-58fa-414f-99c0-3a39e687737c"
      },
      "outputs": [
        {
          "data": {
            "image/png": "[encoded data removed]",
            "text/plain": [
              "<Figure size 1200x500 with 2 Axes>"
            ]
          },
          "metadata": {},
          "output_type": "display_data"
        }
      ],
      "source": [
        "# Plot training history\n",
        "def plot_training_history(train_losses, val_losses, val_accuracies):\n",
        "    plt.figure(figsize=(12, 5))\n",
        "\n",
        "    # Plot loss\n",
        "    plt.subplot(1, 2, 1)\n",
        "    plt.plot(train_losses, label='Training Loss')\n",
        "    plt.plot(val_losses, label='Validation Loss')\n",
        "    plt.title('Training and Validation Loss')\n",
        "    plt.xlabel('Epochs')\n",
        "    plt.ylabel('Loss')\n",
        "    plt.legend()\n",
        "\n",
        "    # Plot accuracy\n",
        "    plt.subplot(1, 2, 2)\n",
        "    plt.plot(val_accuracies, label='Validation Accuracy')\n",
        "    plt.title('Validation Accuracy')\n",
        "    plt.xlabel('Epochs')\n",
        "    plt.ylabel('Accuracy')\n",
        "    plt.legend()\n",
        "\n",
        "    plt.tight_layout()\n",
        "    plt.savefig('training_history.png')\n",
        "    plt.show()\n",
        "\n",
        "plot_training_history(train_losses, val_losses, val_accuracies)"
      ]
    },
    {
      "cell_type": "markdown",
      "id": "74cc1f8c",
      "metadata": {
        "id": "74cc1f8c"
      },
      "source": [
        "## 9. Evaluate on Test Set"
      ]
    },
    {
      "cell_type": "code",
      "execution_count": null,
      "id": "5b3a5767",
      "metadata": {
        "colab": {
          "base_uri": "https://localhost:8080/",
          "height": 508
        },
        "id": "5b3a5767",
        "outputId": "e63df640-1da9-45ff-a731-29fa2e89480f"
      },
      "outputs": [
        {
          "name": "stdout",
          "output_type": "stream",
          "text": [
            "Test Accuracy: 0.9070\n",
            "Test F1 Score: 0.9058\n"
          ]
        },
        {
          "data": {
            "image/png": "[encoded data removed]",
            "text/plain": [
              "<Figure size 640x480 with 2 Axes>"
            ]
          },
          "metadata": {},
          "output_type": "display_data"
        }
      ],
      "source": [
        "# Evaluate on test set\n",
        "model.eval()\n",
        "all_preds = []\n",
        "all_labels = []\n",
        "\n",
        "for batch in test_loader:\n",
        "    # Unpack the batch tuple\n",
        "    input_ids = batch[0].to(device)\n",
        "    attention_mask = batch[1].to(device)\n",
        "    labels = batch[2].to(device)\n",
        "\n",
        "    with torch.no_grad():\n",
        "        outputs = model(input_ids, attention_mask=attention_mask)\n",
        "\n",
        "    logits = outputs.logits\n",
        "    preds = torch.argmax(logits, dim=1)\n",
        "\n",
        "    all_preds.extend(preds.cpu().numpy())\n",
        "    all_labels.extend(labels.cpu().numpy())\n",
        "\n",
        "# Calculate metrics\n",
        "accuracy = accuracy_score(all_labels, all_preds)\n",
        "f1 = f1_score(all_labels, all_preds)\n",
        "\n",
        "print(f\"Test Accuracy: {accuracy:.4f}\")\n",
        "print(f\"Test F1 Score: {f1:.4f}\")\n",
        "\n",
        "# Confusion matrix\n",
        "cm = confusion_matrix(all_labels, all_preds)\n",
        "disp = ConfusionMatrixDisplay(confusion_matrix=cm, display_labels=['Negative', 'Positive'])\n",
        "disp.plot(cmap='Blues')\n",
        "plt.title('Confusion Matrix')\n",
        "plt.savefig('confusion_matrix.png')\n",
        "plt.show()"
      ]
    },
    {
      "cell_type": "markdown",
      "id": "40442417",
      "metadata": {
        "id": "40442417"
      },
      "source": [
        "## 10. Make Predictions on Sample Text"
      ]
    },
    {
      "cell_type": "code",
      "execution_count": null,
      "id": "3c6c4f3f",
      "metadata": {
        "colab": {
          "base_uri": "https://localhost:8080/"
        },
        "id": "3c6c4f3f",
        "outputId": "b91375b6-a0f3-4d6b-cc0d-23741678202a"
      },
      "outputs": [
        {
          "name": "stdout",
          "output_type": "stream",
          "text": [
            "Text: This movie was absolutely fantastic! The acting was superb and the story was captivating.\n",
            "Sentiment: Positive (Confidence: 0.9929)\n",
            "Probabilities: Negative: 0.0071, Positive: 0.9929\n",
            "--------------------------------------------------\n",
            "Text: I've never been more disappointed in a film. The plot made no sense and the acting was terrible.\n",
            "Sentiment: Negative (Confidence: 0.9873)\n",
            "Probabilities: Negative: 0.9873, Positive: 0.0127\n",
            "--------------------------------------------------\n",
            "Text: The cinematography was beautiful, but the characters were poorly developed and the dialogue felt forced.\n",
            "Sentiment: Negative (Confidence: 0.9808)\n",
            "Probabilities: Negative: 0.9808, Positive: 0.0192\n",
            "--------------------------------------------------\n",
            "Text: A perfect blend of action, comedy, and drama. Highly recommend to everyone!\n",
            "Sentiment: Positive (Confidence: 0.9942)\n",
            "Probabilities: Negative: 0.0058, Positive: 0.9942\n",
            "--------------------------------------------------\n"
          ]
        }
      ],
      "source": [
        "# Prediction function\n",
        "def predict_sentiment(text):\n",
        "    # Tokenize input\n",
        "    inputs = tokenizer(\n",
        "        text,\n",
        "        padding=True,\n",
        "        truncation=True,\n",
        "        max_length=256,\n",
        "        return_tensors='pt'\n",
        "    ).to(device)\n",
        "\n",
        "    # Get prediction\n",
        "    with torch.no_grad():\n",
        "        outputs = model(**inputs)\n",
        "\n",
        "    logits = outputs.logits\n",
        "    probs = torch.softmax(logits, dim=1)\n",
        "    pred_label = torch.argmax(probs, dim=1).item()\n",
        "\n",
        "    sentiment = 'Positive' if pred_label == 1 else 'Negative'\n",
        "    confidence = probs[0][pred_label].item()\n",
        "\n",
        "    print(f\"Text: {text}\")\n",
        "    print(f\"Sentiment: {sentiment} (Confidence: {confidence:.4f})\")\n",
        "    print(f\"Probabilities: Negative: {probs[0][0].item():.4f}, Positive: {probs[0][1].item():.4f}\")\n",
        "    print(\"-\" * 50)\n",
        "\n",
        "# Sample predictions\n",
        "sample_texts = [\n",
        "    \"This movie was absolutely fantastic! The acting was superb and the story was captivating.\",\n",
        "    \"I've never been more disappointed in a film. The plot made no sense and the acting was terrible.\",\n",
        "    \"The cinematography was beautiful, but the characters were poorly developed and the dialogue felt forced.\",\n",
        "    \"A perfect blend of action, comedy, and drama. Highly recommend to everyone!\"\n",
        "]\n",
        "\n",
        "for text in sample_texts:\n",
        "    predict_sentiment(text)"
      ]
    },
    {
      "cell_type": "markdown",
      "id": "c0e569ec",
      "metadata": {
        "id": "c0e569ec"
      },
      "source": [
        "## 11. Save and Load the Model"
      ]
    },
    {
      "cell_type": "code",
      "execution_count": null,
      "id": "5f1ef6c0",
      "metadata": {
        "colab": {
          "base_uri": "https://localhost:8080/"
        },
        "id": "5f1ef6c0",
        "outputId": "79d22ce7-45ed-4c8a-f38d-de2c7e5efc13"
      },
      "outputs": [
        {
          "name": "stdout",
          "output_type": "stream",
          "text": [
            "Model saved.\n"
          ]
        }
      ],
      "source": [
        "# Save model\n",
        "model.save_pretrained(\"bert_imdb_sentiment\")\n",
        "tokenizer.save_pretrained(\"bert_imdb_sentiment\")\n",
        "print(\"Model saved.\")\n",
        "\n",
        "# Load model\n",
        "# loaded_model = BertForSequenceClassification.from_pretrained(\"bert_imdb_sentiment\")\n",
        "# loaded_tokenizer = BertTokenizerFast.from_pretrained(\"bert_imdb_sentiment\")"
      ]
    },
    {
      "cell_type": "markdown",
      "id": "42c5ebf9",
      "metadata": {
        "id": "42c5ebf9"
      },
      "source": [
        "## 12. Conclusion and Next Steps\n",
        "\n",
        "**Key Insights**:\n",
        "- BERT provides powerful contextual representations for text\n",
        "- Fine-tuning on specific tasks yields excellent performance\n",
        "- Transfer learning significantly reduces training time and data requirements\n",
        "\n",
        "**Potential Improvements**:\n",
        "1. Try different BERT variants (distilbert, roberta, albert)\n",
        "2. Experiment with different hyperparameters (learning rate, batch size, sequence length)\n",
        "3. Use full dataset for training\n",
        "4. Apply to other text classification tasks (topic classification, spam detection)\n",
        "5. Implement more advanced training techniques (learning rate scheduling, mixed precision)\n",
        "\n",
        "**Real-world Applications**:\n",
        "- Customer feedback analysis\n",
        "- Social media sentiment monitoring\n",
        "- News categorization\n",
        "- Toxic comment detection\n",
        "- Intent classification for chatbots"
      ]
    }
  ],
  "metadata": {
    "accelerator": "GPU",
    "colab": {
      "gpuType": "T4",
      "provenance": [],
      "include_colab_link": true
    },
    "kernelspec": {
      "display_name": "Python 3",
      "name": "python3"
    },
    "language_info": {
      "codemirror_mode": {
        "name": "ipython",
        "version": 3
      },
      "file_extension": ".py",
      "mimetype": "text/x-python",
      "name": "python",
      "nbconvert_exporter": "python",
      "pygments_lexer": "ipython3",
      "version": "3.8.5"
    }
  },
  "nbformat": 4,
  "nbformat_minor": 5
}
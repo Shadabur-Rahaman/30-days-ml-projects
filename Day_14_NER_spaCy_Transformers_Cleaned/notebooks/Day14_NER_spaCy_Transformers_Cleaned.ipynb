{
  "cells": [
    {
      "cell_type": "markdown",
      "metadata": {
        "id": "view-in-github",
        "colab_type": "text"
      },
      "source": [
        "<a href=\"https://colab.research.google.com/github/Shadabur-Rahaman/30-days-ml-projects/blob/main/Day_14_NER_spaCy_Transformers_Cleaned/notebooks/Day14_NER_spaCy_Transformers_Cleaned.ipynb\" target=\"_parent\"><img src=\"https://colab.research.google.com/assets/colab-badge.svg\" alt=\"Open In Colab\"/></a>"
      ]
    },
    {
      "cell_type": "markdown",
      "metadata": {
        "id": "84lHDZN8unpp"
      },
      "source": [
        "# 📘 Day 14: Named Entity Recognition (NER)\n",
        "\n",
        "In this notebook, we will explore **Named Entity Recognition (NER)** using two popular libraries:\n",
        "\n",
        "- `spaCy` (rule-based and statistical models)\n",
        "- `Hugging Face Transformers` (BERT-based model for fine-tuned NER)\n",
        "\n",
        "We'll compare outputs and understand how both perform entity extraction tasks."
      ],
      "id": "84lHDZN8unpp"
    },
    {
      "cell_type": "code",
      "metadata": {
        "id": "tcDGP5fzunps"
      },
      "execution_count": null,
      "outputs": [],
      "source": [
        "# 🛠️ Install Dependencies (uncomment if using Colab)\n",
        "# !pip install spacy transformers\n",
        "# !python -m spacy download en_core_web_sm"
      ],
      "id": "tcDGP5fzunps"
    },
    {
      "cell_type": "markdown",
      "metadata": {
        "id": "3IMcA-oLunpu"
      },
      "source": [
        "## ✨ NER with spaCy"
      ],
      "id": "3IMcA-oLunpu"
    },
    {
      "cell_type": "code",
      "metadata": {
        "id": "KBUDQdjXunpu",
        "collapsed": true
      },
      "execution_count": null,
      "outputs": [],
      "source": [
        "import spacy\n",
        "\n",
        "# Load spaCy English model\n",
        "nlp_spacy = spacy.load(\"en_core_web_sm\")\n",
        "\n",
        "# Sample text\n",
        "text = \"Apple Inc. is looking at buying U.K. startup for $1 billion in 2025. Elon Musk tweeted from San Francisco.\"\n",
        "\n",
        "# Process text\n",
        "doc = nlp_spacy(text)\n",
        "\n",
        "# Print named entities\n",
        "for ent in doc.ents:\n",
        "    print(f\"{ent.text} -> {ent.label_}\")"
      ],
      "id": "KBUDQdjXunpu"
    },
    {
      "cell_type": "markdown",
      "metadata": {
        "id": "43s5OlcJunpv"
      },
      "source": [
        "## 🤖 NER with Hugging Face Transformers (BERT)"
      ],
      "id": "43s5OlcJunpv"
    },
    {
      "cell_type": "code",
      "metadata": {
        "id": "tb5Yw0Zuunpv",
        "collapsed": true
      },
      "execution_count": null,
      "outputs": [],
      "source": [
        "from transformers import pipeline\n",
        "\n",
        "# Load transformers NER pipeline\n",
        "ner_pipe = pipeline(\"ner\", model=\"dslim/bert-base-NER\", grouped_entities=True)\n",
        "\n",
        "# Apply pipeline\n",
        "results = ner_pipe(text)\n",
        "\n",
        "# Display results\n",
        "for entity in results:\n",
        "    print(f\"{entity['word']} ({entity['entity_group']}) - Score: {entity['score']:.2f}\")"
      ],
      "id": "tb5Yw0Zuunpv"
    },
    {
      "cell_type": "code",
      "source": [
        "import matplotlib.pyplot as plt\n",
        "import pandas as pd\n",
        "\n",
        "# Convert to DataFrame for visualization\n",
        "df = pd.DataFrame(results)\n",
        "df['score'] = df['score'].round(2)\n",
        "\n",
        "# Plot scores\n",
        "plt.figure(figsize=(10, 4))\n",
        "plt.bar(df['word'], df['score'], color='skyblue')\n",
        "plt.title(\"NER Confidence Scores\")\n",
        "plt.xlabel(\"Entity\")\n",
        "plt.ylabel(\"Score\")\n",
        "plt.xticks(rotation=45)\n",
        "plt.tight_layout()\n",
        "plt.show()\n"
      ],
      "metadata": {
        "id": "26kqmsnNvpUj",
        "collapsed": true
      },
      "id": "26kqmsnNvpUj",
      "execution_count": null,
      "outputs": []
    },
    {
      "cell_type": "code",
      "source": [
        "import spacy\n",
        "import matplotlib.pyplot as plt\n",
        "from matplotlib.patches import Rectangle\n",
        "\n",
        "# Load model and process text\n",
        "nlp = spacy.load(\"en_core_web_sm\")\n",
        "text = \"Apple Inc. is looking at buying U.K. startup for $1 billion in 2025. Elon Musk tweeted from San Francisco.\"\n",
        "doc = nlp(text)\n",
        "\n",
        "# Build token text list with entity labels\n",
        "tokens = []\n",
        "colors = {\n",
        "    \"ORG\": \"#ffe0b2\",\n",
        "    \"GPE\": \"#b3e5fc\",\n",
        "    \"MONEY\": \"#c8e6c9\",\n",
        "    \"DATE\": \"#f8bbd0\",\n",
        "    \"PERSON\": \"#d1c4e9\"\n",
        "}\n",
        "\n",
        "for token in doc:\n",
        "    label = next((ent.label_ for ent in doc.ents if token.idx >= ent.start_char and token.idx < ent.end_char), None)\n",
        "    tokens.append((token.text, label))\n",
        "\n",
        "# Plot using matplotlib\n",
        "plt.figure(figsize=(12, 2))\n",
        "ax = plt.gca()\n",
        "x = 0.05\n",
        "y = 0.5\n",
        "for word, label in tokens:\n",
        "    width = 0.03 * len(word)\n",
        "    rect_color = colors.get(label, \"white\")\n",
        "    ax.add_patch(Rectangle((x, y), width, 0.3, facecolor=rect_color, edgecolor='black'))\n",
        "    plt.text(x + width/2, y + 0.15, word, ha='center', va='center', fontsize=10)\n",
        "    if label:\n",
        "        plt.text(x + width/2, y + 0.35, label, ha='center', va='bottom', fontsize=8, color='black')\n",
        "    x += width + 0.01\n",
        "\n",
        "plt.axis('off')\n",
        "plt.tight_layout()\n",
        "plt.savefig(\"ner_annotations_example.png\", dpi=200)\n",
        "plt.show()\n"
      ],
      "metadata": {
        "id": "y1awuogexXRU",
        "collapsed": true
      },
      "id": "y1awuogexXRU",
      "execution_count": null,
      "outputs": []
    },
    {
      "cell_type": "code",
      "source": [
        "import matplotlib.pyplot as plt\n",
        "\n",
        "# Example evaluation metrics\n",
        "labels = ['Precision', 'Recall', 'F1-Score']\n",
        "values = [0.91, 0.89, 0.90]\n",
        "\n",
        "# Create bar chart\n",
        "plt.figure(figsize=(6, 4))\n",
        "plt.bar(labels, values, color=['skyblue', 'lightgreen', 'salmon'])\n",
        "plt.ylim(0.8, 1.0)\n",
        "plt.title(\"NER Model Evaluation Metrics\")\n",
        "plt.ylabel(\"Score\")\n",
        "plt.grid(axis='y')\n",
        "plt.tight_layout()\n",
        "\n",
        "# Save as image\n",
        "plt.savefig(\"model_eval_metrics.png\")\n",
        "print(\"Saved: model_eval_metrics.png\")\n"
      ],
      "metadata": {
        "colab": {
          "base_uri": "https://localhost:8080/",
          "height": 424
        },
        "id": "461M3s1Jx9WG",
        "outputId": "e8492aca-cc60-4c79-a26b-7fc8f86fb00c",
        "collapsed": true
      },
      "id": "461M3s1Jx9WG",
      "execution_count": null,
      "outputs": [
        {
          "output_type": "stream",
          "name": "stdout",
          "text": [
            "Saved: model_eval_metrics.png\n"
          ]
        },
        {
          "output_type": "display_data",
          "data": {
            "text/plain": [
              "<Figure size 600x400 with 1 Axes>"
            ],
            "image/png": "[encoded data removed]"
          },
          "metadata": {}
        }
      ]
    },
    {
      "cell_type": "markdown",
      "metadata": {
        "id": "ZYrOAvAXunpw"
      },
      "source": [
        "## ✅ Summary\n",
        "- spaCy is lightweight, fast, and easy to use for rule-based + statistical NER.\n",
        "- Hugging Face Transformers provide high-accuracy NER with pre-trained transformer models.\n",
        "- Use spaCy for lightweight tasks and HF Transformers for state-of-the-art applications."
      ],
      "id": "ZYrOAvAXunpw"
    }
  ],
  "metadata": {
    "kernelspec": {
      "display_name": "Python 3",
      "language": "python",
      "name": "python3"
    },
    "language_info": {
      "name": "python",
      "version": "3.8"
    },
    "colab": {
      "provenance": [],
      "include_colab_link": true
    }
  },
  "nbformat": 4,
  "nbformat_minor": 5
}
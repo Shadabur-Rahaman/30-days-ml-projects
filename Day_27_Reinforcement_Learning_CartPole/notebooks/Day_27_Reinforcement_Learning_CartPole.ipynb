{
  "cells": [
    {
      "cell_type": "markdown",
      "metadata": {
        "id": "view-in-github",
        "colab_type": "text"
      },
      "source": [
        "<a href=\"https://colab.research.google.com/github/Shadabur-Rahaman/30-days-ml-projects/blob/main/Day_27_Reinforcement_Learning_CartPole/notebooks/Day_27_Reinforcement_Learning_CartPole.ipynb\" target=\"_parent\"><img src=\"https://colab.research.google.com/assets/colab-badge.svg\" alt=\"Open In Colab\"/></a>"
      ]
    },
    {
      "cell_type": "markdown",
      "id": "14d575fb",
      "metadata": {
        "id": "14d575fb"
      },
      "source": [
        "# Reinforcement Learning: CartPole Problem\n",
        "## Day 27/30 of Machine Learning Project\n",
        "\n",
        "**Project Goal**: Implement a DQN agent to solve OpenAI Gym's CartPole environment\n",
        "**Key Features**:\n",
        "- Experience replay memory\n",
        "- Target network for stable training\n",
        "- Epsilon-greedy exploration\n",
        "- Model checkpointing\n",
        "- Performance visualization"
      ]
    },
    {
      "cell_type": "markdown",
      "id": "1f67946c",
      "metadata": {
        "id": "1f67946c"
      },
      "source": [
        "## 1. Import Required Libraries"
      ]
    },
    {
      "cell_type": "code",
      "execution_count": 2,
      "id": "6225c9f7",
      "metadata": {
        "colab": {
          "base_uri": "https://localhost:8080/"
        },
        "id": "6225c9f7",
        "outputId": "5b55e97f-30d2-43af-a8b6-c837e64369fa"
      },
      "outputs": [
        {
          "output_type": "stream",
          "name": "stdout",
          "text": [
            "\n",
            "Usage:   \n",
            "  pip3 install [options] <requirement specifier> [package-index-options] ...\n",
            "  pip3 install [options] -r <requirements file> [package-index-options] ...\n",
            "  pip3 install [options] [-e] <vcs project url> ...\n",
            "  pip3 install [options] [-e] <local project path> ...\n",
            "  pip3 install [options] <archive url/path> ...\n",
            "\n",
            "no such option: -n\n",
            "\n",
            "Usage:   \n",
            "  pip3 install [options] <requirement specifier> [package-index-options] ...\n",
            "  pip3 install [options] -r <requirements file> [package-index-options] ...\n",
            "  pip3 install [options] [-e] <vcs project url> ...\n",
            "  pip3 install [options] [-e] <local project path> ...\n",
            "  pip3 install [options] <archive url/path> ...\n",
            "\n",
            "no such option: -n\n"
          ]
        },
        {
          "output_type": "execute_result",
          "data": {
            "text/plain": [
              "<pyvirtualdisplay.display.Display at 0x7dc0009be250>"
            ]
          },
          "metadata": {},
          "execution_count": 2
        }
      ],
      "source": [
        "!pip install gym[classic_control] tensorflow pyglet==1.5.27 -q\\n\n",
        "!pip install pygame -q\\n\n",
        "!apt-get install -y python3-opengl > /dev/null\\n\n",
        "!pip install pyvirtualdisplay > /dev/null\\n\n",
        "!apt-get install xvfb -y > /dev/null\n",
        "import gym\n",
        "import numpy as np\n",
        "import random\n",
        "from collections import deque\n",
        "import tensorflow as tf\n",
        "from tensorflow.keras.models import Sequential, load_model\n",
        "from tensorflow.keras.layers import Dense\n",
        "from tensorflow.keras.optimizers import Adam\n",
        "import matplotlib.pyplot as plt\n",
        "import json\n",
        "import base64\n",
        "from IPython.display import HTML\n",
        "\n",
        "# Setup virtual display for rendering\n",
        "from pyvirtualdisplay import Display\n",
        "display = Display(visible=0, size=(1400, 900))\n",
        "display.start()"
      ]
    },
    {
      "cell_type": "markdown",
      "id": "d29b5e9a",
      "metadata": {
        "id": "d29b5e9a"
      },
      "source": [
        "## 2. Environment Setup"
      ]
    },
    {
      "cell_type": "code",
      "execution_count": 3,
      "id": "623708d9",
      "metadata": {
        "colab": {
          "base_uri": "https://localhost:8080/"
        },
        "id": "623708d9",
        "outputId": "f0c36a9d-896b-4b18-c995-267bd5f2b3b7"
      },
      "outputs": [
        {
          "output_type": "stream",
          "name": "stdout",
          "text": [
            "State size: 4, Action size: 2\n"
          ]
        },
        {
          "output_type": "stream",
          "name": "stderr",
          "text": [
            "/usr/local/lib/python3.11/dist-packages/gym/core.py:317: DeprecationWarning: \u001b[33mWARN: Initializing wrapper in old step API which returns one bool instead of two. It is recommended to set `new_step_api=True` to use new step API. This will be the default behaviour in future.\u001b[0m\n",
            "  deprecation(\n",
            "/usr/local/lib/python3.11/dist-packages/gym/wrappers/step_api_compatibility.py:39: DeprecationWarning: \u001b[33mWARN: Initializing environment in old step API which returns one bool instead of two. It is recommended to set `new_step_api=True` to use new step API. This will be the default behaviour in future.\u001b[0m\n",
            "  deprecation(\n"
          ]
        }
      ],
      "source": [
        "env = gym.make('CartPole-v1')\n",
        "state_size = env.observation_space.shape[0]\n",
        "action_size = env.action_space.n\n",
        "print(f\"State size: {state_size}, Action size: {action_size}\")"
      ]
    },
    {
      "cell_type": "markdown",
      "id": "72b29a6b",
      "metadata": {
        "id": "72b29a6b"
      },
      "source": [
        "## 3. DQN Agent Implementation"
      ]
    },
    {
      "cell_type": "code",
      "execution_count": 7,
      "id": "d5cad6ec",
      "metadata": {
        "id": "d5cad6ec"
      },
      "outputs": [],
      "source": [
        "# Fixed DQNAgent implementation\n",
        "class DQNAgent:\n",
        "    def __init__(self, state_size, action_size):\n",
        "        self.state_size = state_size\n",
        "        self.action_size = action_size\n",
        "        self.memory = deque(maxlen=2000)\n",
        "        self.gamma = 0.95    # Discount rate\n",
        "        self.epsilon = 1.0   # Exploration rate\n",
        "        self.epsilon_min = 0.01\n",
        "        self.epsilon_decay = 0.995\n",
        "        self.learning_rate = 0.001\n",
        "        self.model = self._build_model()\n",
        "        self.target_model = self._build_model()\n",
        "        self.update_target_model()\n",
        "\n",
        "    def _build_model(self):\n",
        "        model = Sequential([\n",
        "            Dense(24, input_dim=self.state_size, activation='relu'),\n",
        "            Dense(24, activation='relu'),\n",
        "            Dense(self.action_size, activation='linear')\n",
        "        ])\n",
        "        # FIXED: Use 'learning_rate' instead of 'lr'\n",
        "        model.compile(loss='mse', optimizer=Adam(learning_rate=self.learning_rate))\n",
        "        return model\n",
        "\n",
        "    def update_target_model(self):\n",
        "        self.target_model.set_weights(self.model.get_weights())\n",
        "\n",
        "    def remember(self, state, action, reward, next_state, done):\n",
        "        self.memory.append((state, action, reward, next_state, done))\n",
        "\n",
        "    def act(self, state):\n",
        "        if np.random.rand() <= self.epsilon:\n",
        "            return random.randrange(self.action_size)\n",
        "        act_values = self.model.predict(state, verbose=0)\n",
        "        return np.argmax(act_values[0])\n",
        "\n",
        "    def replay(self, batch_size):\n",
        "        if len(self.memory) < batch_size:\n",
        "            return\n",
        "\n",
        "        minibatch = random.sample(self.memory, batch_size)\n",
        "        for state, action, reward, next_state, done in minibatch:\n",
        "            target = self.model.predict(state, verbose=0)\n",
        "            if done:\n",
        "                target[0][action] = reward\n",
        "            else:\n",
        "                t = self.target_model.predict(next_state, verbose=0)\n",
        "                target[0][action] = reward + self.gamma * np.amax(t[0])\n",
        "            self.model.fit(state, target, epochs=1, verbose=0)\n",
        "\n",
        "    def decay_epsilon(self):\n",
        "        if self.epsilon > self.epsilon_min:\n",
        "            self.epsilon *= self.epsilon_decay\n",
        "\n",
        "    def save(self, name):\n",
        "        self.model.save(f'rl_artifacts/{name}.h5')\n",
        "        self.target_model.save(f'rl_artifacts/{name}_target.h5')\n",
        "        print(f\"Models saved to rl_artifacts/{name}.h5 and rl_artifacts/{name}_target.h5\")\n",
        "\n",
        "    def load(self, name):\n",
        "        self.model = load_model(f'rl_artifacts/{name}.h5')\n",
        "        self.target_model = load_model(f'rl_artifacts/{name}_target.h5')\n",
        "        print(f\"Models loaded from rl_artifacts/{name}.h5 and rl_artifacts/{name}_target.h5\")"
      ]
    },
    {
      "cell_type": "markdown",
      "id": "9239a700",
      "metadata": {
        "id": "9239a700"
      },
      "source": [
        "## 4. Training Configuration"
      ]
    },
    {
      "cell_type": "code",
      "execution_count": 13,
      "id": "210d84aa",
      "metadata": {
        "id": "210d84aa"
      },
      "outputs": [],
      "source": [
        "# Training configuration with corrected agent\n",
        "EPISODES = 100\n",
        "BATCH_SIZE = 32\n",
        "agent = DQNAgent(state_size, action_size)\n",
        "\n",
        "# For tracking performance\n",
        "episode_rewards = []\n",
        "episode_epsilons = []\n",
        "solved_threshold = 195  # Considered solved when avg > 195 over 100 episodes"
      ]
    },
    {
      "cell_type": "markdown",
      "id": "24cc867f",
      "metadata": {
        "id": "24cc867f"
      },
      "source": [
        "## 5. Training Loop"
      ]
    },
    {
      "cell_type": "code",
      "execution_count": 14,
      "id": "6b39ca50",
      "metadata": {
        "colab": {
          "base_uri": "https://localhost:8080/"
        },
        "id": "6b39ca50",
        "outputId": "c83881e7-fbfa-43f8-88d7-90e123a4d586"
      },
      "outputs": [
        {
          "output_type": "stream",
          "name": "stderr",
          "text": [
            "WARNING:absl:You are saving your model as an HDF5 file via `model.save()` or `keras.saving.save_model(model)`. This file format is considered legacy. We recommend using instead the native Keras format, e.g. `model.save('my_model.keras')` or `keras.saving.save_model(model, 'my_model.keras')`. \n",
            "WARNING:absl:You are saving your model as an HDF5 file via `model.save()` or `keras.saving.save_model(model)`. This file format is considered legacy. We recommend using instead the native Keras format, e.g. `model.save('my_model.keras')` or `keras.saving.save_model(model, 'my_model.keras')`. \n"
          ]
        },
        {
          "output_type": "stream",
          "name": "stdout",
          "text": [
            "Models saved to rl_artifacts/cartpole_dqn_episode_0.h5 and rl_artifacts/cartpole_dqn_episode_0_target.h5\n",
            "Episode: 1/100, Score: 12.0, Epsilon: 0.995\n",
            "Episode: 2/100, Score: 31.0, Epsilon: 0.990\n",
            "Episode: 3/100, Score: 11.0, Epsilon: 0.985\n",
            "Episode: 4/100, Score: 10.0, Epsilon: 0.980\n",
            "Episode: 5/100, Score: 20.0, Epsilon: 0.975\n",
            "Episode: 6/100, Score: 17.0, Epsilon: 0.970\n",
            "Episode: 7/100, Score: 10.0, Epsilon: 0.966\n",
            "Episode: 8/100, Score: 22.0, Epsilon: 0.961\n",
            "Episode: 9/100, Score: 12.0, Epsilon: 0.956\n",
            "Episode: 10/100, Score: 11.0, Epsilon: 0.951\n",
            "Episode: 11/100, Score: 8.0, Epsilon: 0.946\n",
            "Episode: 12/100, Score: 18.0, Epsilon: 0.942\n",
            "Episode: 13/100, Score: 19.0, Epsilon: 0.937\n",
            "Episode: 14/100, Score: 9.0, Epsilon: 0.932\n",
            "Episode: 15/100, Score: 21.0, Epsilon: 0.928\n",
            "Episode: 16/100, Score: 27.0, Epsilon: 0.923\n",
            "Episode: 17/100, Score: 17.0, Epsilon: 0.918\n",
            "Episode: 18/100, Score: 19.0, Epsilon: 0.914\n",
            "Episode: 19/100, Score: 12.0, Epsilon: 0.909\n",
            "Episode: 20/100, Score: 84.0, Epsilon: 0.905\n",
            "Episode: 21/100, Score: 13.0, Epsilon: 0.900\n",
            "Episode: 22/100, Score: 17.0, Epsilon: 0.896\n",
            "Episode: 23/100, Score: 17.0, Epsilon: 0.891\n",
            "Episode: 24/100, Score: 50.0, Epsilon: 0.887\n",
            "Episode: 25/100, Score: 22.0, Epsilon: 0.882\n",
            "Episode: 26/100, Score: 28.0, Epsilon: 0.878\n",
            "Episode: 27/100, Score: 13.0, Epsilon: 0.873\n",
            "Episode: 28/100, Score: 20.0, Epsilon: 0.869\n",
            "Episode: 29/100, Score: 18.0, Epsilon: 0.865\n",
            "Episode: 30/100, Score: 12.0, Epsilon: 0.860\n",
            "Episode: 31/100, Score: 44.0, Epsilon: 0.856\n",
            "Episode: 32/100, Score: 11.0, Epsilon: 0.852\n",
            "Episode: 33/100, Score: 24.0, Epsilon: 0.848\n",
            "Episode: 34/100, Score: 18.0, Epsilon: 0.843\n",
            "Episode: 35/100, Score: 17.0, Epsilon: 0.839\n",
            "Episode: 36/100, Score: 33.0, Epsilon: 0.835\n",
            "Episode: 37/100, Score: 10.0, Epsilon: 0.831\n",
            "Episode: 38/100, Score: 14.0, Epsilon: 0.827\n",
            "Episode: 39/100, Score: 22.0, Epsilon: 0.822\n",
            "Episode: 40/100, Score: 22.0, Epsilon: 0.818\n",
            "Episode: 41/100, Score: 24.0, Epsilon: 0.814\n",
            "Episode: 42/100, Score: 29.0, Epsilon: 0.810\n",
            "Episode: 43/100, Score: 13.0, Epsilon: 0.806\n",
            "Episode: 44/100, Score: 13.0, Epsilon: 0.802\n",
            "Episode: 45/100, Score: 13.0, Epsilon: 0.798\n",
            "Episode: 46/100, Score: 13.0, Epsilon: 0.794\n",
            "Episode: 47/100, Score: 15.0, Epsilon: 0.790\n",
            "Episode: 48/100, Score: 19.0, Epsilon: 0.786\n",
            "Episode: 49/100, Score: 11.0, Epsilon: 0.782\n",
            "Episode: 50/100, Score: 11.0, Epsilon: 0.778\n"
          ]
        },
        {
          "output_type": "stream",
          "name": "stderr",
          "text": [
            "WARNING:absl:You are saving your model as an HDF5 file via `model.save()` or `keras.saving.save_model(model)`. This file format is considered legacy. We recommend using instead the native Keras format, e.g. `model.save('my_model.keras')` or `keras.saving.save_model(model, 'my_model.keras')`. \n",
            "WARNING:absl:You are saving your model as an HDF5 file via `model.save()` or `keras.saving.save_model(model)`. This file format is considered legacy. We recommend using instead the native Keras format, e.g. `model.save('my_model.keras')` or `keras.saving.save_model(model, 'my_model.keras')`. \n"
          ]
        },
        {
          "output_type": "stream",
          "name": "stdout",
          "text": [
            "Models saved to rl_artifacts/cartpole_dqn_episode_50.h5 and rl_artifacts/cartpole_dqn_episode_50_target.h5\n",
            "Episode: 51/100, Score: 20.0, Epsilon: 0.774\n",
            "Episode: 52/100, Score: 39.0, Epsilon: 0.771\n",
            "Episode: 53/100, Score: 25.0, Epsilon: 0.767\n",
            "Episode: 54/100, Score: 13.0, Epsilon: 0.763\n",
            "Episode: 55/100, Score: 18.0, Epsilon: 0.759\n",
            "Episode: 56/100, Score: 13.0, Epsilon: 0.755\n",
            "Episode: 57/100, Score: 28.0, Epsilon: 0.751\n",
            "Episode: 58/100, Score: 9.0, Epsilon: 0.748\n",
            "Episode: 59/100, Score: 11.0, Epsilon: 0.744\n",
            "Episode: 60/100, Score: 30.0, Epsilon: 0.740\n",
            "Episode: 61/100, Score: 16.0, Epsilon: 0.737\n",
            "Episode: 62/100, Score: 14.0, Epsilon: 0.733\n",
            "Episode: 63/100, Score: 9.0, Epsilon: 0.729\n",
            "Episode: 64/100, Score: 19.0, Epsilon: 0.726\n",
            "Episode: 65/100, Score: 36.0, Epsilon: 0.722\n",
            "Episode: 66/100, Score: 14.0, Epsilon: 0.718\n",
            "Episode: 67/100, Score: 28.0, Epsilon: 0.715\n",
            "Episode: 68/100, Score: 17.0, Epsilon: 0.711\n",
            "Episode: 69/100, Score: 17.0, Epsilon: 0.708\n",
            "Episode: 70/100, Score: 10.0, Epsilon: 0.704\n",
            "Episode: 71/100, Score: 14.0, Epsilon: 0.701\n",
            "Episode: 72/100, Score: 34.0, Epsilon: 0.697\n",
            "Episode: 73/100, Score: 19.0, Epsilon: 0.694\n",
            "Episode: 74/100, Score: 11.0, Epsilon: 0.690\n",
            "Episode: 75/100, Score: 15.0, Epsilon: 0.687\n",
            "Episode: 76/100, Score: 12.0, Epsilon: 0.683\n",
            "Episode: 77/100, Score: 33.0, Epsilon: 0.680\n",
            "Episode: 78/100, Score: 20.0, Epsilon: 0.676\n",
            "Episode: 79/100, Score: 10.0, Epsilon: 0.673\n",
            "Episode: 80/100, Score: 35.0, Epsilon: 0.670\n",
            "Episode: 81/100, Score: 14.0, Epsilon: 0.666\n",
            "Episode: 82/100, Score: 14.0, Epsilon: 0.663\n",
            "Episode: 83/100, Score: 65.0, Epsilon: 0.660\n",
            "Episode: 84/100, Score: 14.0, Epsilon: 0.656\n",
            "Episode: 85/100, Score: 17.0, Epsilon: 0.653\n",
            "Episode: 86/100, Score: 29.0, Epsilon: 0.650\n",
            "Episode: 87/100, Score: 17.0, Epsilon: 0.647\n",
            "Episode: 88/100, Score: 27.0, Epsilon: 0.643\n",
            "Episode: 89/100, Score: 23.0, Epsilon: 0.640\n",
            "Episode: 90/100, Score: 13.0, Epsilon: 0.637\n",
            "Episode: 91/100, Score: 13.0, Epsilon: 0.634\n",
            "Episode: 92/100, Score: 10.0, Epsilon: 0.631\n",
            "Episode: 93/100, Score: 15.0, Epsilon: 0.627\n",
            "Episode: 94/100, Score: 17.0, Epsilon: 0.624\n",
            "Episode: 95/100, Score: 14.0, Epsilon: 0.621\n",
            "Episode: 96/100, Score: 23.0, Epsilon: 0.618\n",
            "Episode: 97/100, Score: 21.0, Epsilon: 0.615\n",
            "Episode: 98/100, Score: 23.0, Epsilon: 0.612\n",
            "Episode: 99/100, Score: 29.0, Epsilon: 0.609\n"
          ]
        },
        {
          "output_type": "stream",
          "name": "stderr",
          "text": [
            "WARNING:absl:You are saving your model as an HDF5 file via `model.save()` or `keras.saving.save_model(model)`. This file format is considered legacy. We recommend using instead the native Keras format, e.g. `model.save('my_model.keras')` or `keras.saving.save_model(model, 'my_model.keras')`. \n",
            "WARNING:absl:You are saving your model as an HDF5 file via `model.save()` or `keras.saving.save_model(model)`. This file format is considered legacy. We recommend using instead the native Keras format, e.g. `model.save('my_model.keras')` or `keras.saving.save_model(model, 'my_model.keras')`. \n"
          ]
        },
        {
          "output_type": "stream",
          "name": "stdout",
          "text": [
            "Episode: 100/100, Score: 20.0, Epsilon: 0.606\n",
            "Models saved to rl_artifacts/cartpole_dqn_final.h5 and rl_artifacts/cartpole_dqn_final_target.h5\n"
          ]
        }
      ],
      "source": [
        "for e in range(EPISODES):\n",
        "    # Reset environment and handle new Gym API (v0.26+)\n",
        "    if gym.__version__ >= '0.26.0':\n",
        "        state, _ = env.reset()\n",
        "    else:\n",
        "        state = env.reset()\n",
        "\n",
        "    state = np.reshape(state, [1, state_size])\n",
        "    total_reward = 0\n",
        "\n",
        "    for time in range(500):  # Max 500 steps per episode\n",
        "        action = agent.act(state)\n",
        "\n",
        "        # Handle new Gym API (v0.26+)\n",
        "        if gym.__version__ >= '0.26.0':\n",
        "            next_state, reward, terminated, truncated, _ = env.step(action)\n",
        "            done = terminated or truncated\n",
        "        else:\n",
        "            next_state, reward, done, _ = env.step(action)\n",
        "\n",
        "        next_state = np.reshape(next_state, [1, state_size])\n",
        "        agent.remember(state, action, reward, next_state, done)\n",
        "        state = next_state\n",
        "        total_reward += reward\n",
        "\n",
        "        if done:\n",
        "            agent.update_target_model()\n",
        "            break\n",
        "\n",
        "    # Experience replay\n",
        "    if len(agent.memory) > BATCH_SIZE:\n",
        "        agent.replay(BATCH_SIZE)\n",
        "\n",
        "    agent.decay_epsilon()\n",
        "    episode_rewards.append(total_reward)\n",
        "    episode_epsilons.append(agent.epsilon)\n",
        "\n",
        "    # Save model every 50 episodes\n",
        "    if e % 50 == 0:\n",
        "        agent.save(f'cartpole_dqn_episode_{e}')\n",
        "\n",
        "    print(f\"Episode: {e+1}/{EPISODES}, Score: {total_reward}, Epsilon: {agent.epsilon:.3f}\")\n",
        "\n",
        "# Save final model\n",
        "agent.save('cartpole_dqn_final')"
      ]
    },
    {
      "cell_type": "markdown",
      "id": "a03ba8c9",
      "metadata": {
        "id": "a03ba8c9"
      },
      "source": [
        "## 6. Save Training Metrics"
      ]
    },
    {
      "cell_type": "code",
      "execution_count": 15,
      "id": "8fbc341d",
      "metadata": {
        "colab": {
          "base_uri": "https://localhost:8080/"
        },
        "id": "8fbc341d",
        "outputId": "23dcb1ce-0e7b-4db9-e80f-04f9b8e1b244"
      },
      "outputs": [
        {
          "output_type": "stream",
          "name": "stdout",
          "text": [
            "Training metrics saved to training_metrics.json\n"
          ]
        }
      ],
      "source": [
        "# Save rewards and hyperparameters\n",
        "with open('training_metrics.json', 'w') as f:\n",
        "    json.dump({\n",
        "        'rewards': episode_rewards,\n",
        "        'epsilons': episode_epsilons,\n",
        "        'hyperparameters': {\n",
        "            'gamma': agent.gamma,\n",
        "            'epsilon_start': 1.0,\n",
        "            'epsilon_min': agent.epsilon_min,\n",
        "            'epsilon_decay': agent.epsilon_decay,\n",
        "            'learning_rate': agent.learning_rate\n",
        "        }\n",
        "    }, f)\n",
        "\n",
        "print(\"Training metrics saved to training_metrics.json\")"
      ]
    },
    {
      "cell_type": "markdown",
      "id": "77307398",
      "metadata": {
        "id": "77307398"
      },
      "source": [
        "## 7. Performance Visualization"
      ]
    },
    {
      "cell_type": "code",
      "execution_count": 16,
      "id": "faed9be8",
      "metadata": {
        "colab": {
          "base_uri": "https://localhost:8080/",
          "height": 607
        },
        "id": "faed9be8",
        "outputId": "2b60fee4-e254-46ed-9444-4830481a1783"
      },
      "outputs": [
        {
          "output_type": "display_data",
          "data": {
            "text/plain": [
              "<Figure size 1200x600 with 2 Axes>"
            ],
            "image/png": "[encoded data removed]"
          },
          "metadata": {}
        }
      ],
      "source": [
        "# Plot training progress\n",
        "plt.figure(figsize=(12, 6))\n",
        "plt.subplot(1, 2, 1)\n",
        "plt.plot(episode_rewards)\n",
        "plt.title('Rewards per Episode')\n",
        "plt.xlabel('Episode')\n",
        "plt.ylabel('Total Reward')\n",
        "plt.axhline(y=solved_threshold, color='r', linestyle='--', label='Solved Threshold')\n",
        "plt.legend()\n",
        "\n",
        "plt.subplot(1, 2, 2)\n",
        "plt.plot(episode_epsilons)\n",
        "plt.title('Epsilon Decay')\n",
        "plt.xlabel('Episode')\n",
        "plt.ylabel('Epsilon Value')\n",
        "\n",
        "plt.tight_layout()\n",
        "plt.savefig('training_progress.png', dpi=150, bbox_inches='tight')\n",
        "plt.show()"
      ]
    },
    {
      "cell_type": "markdown",
      "id": "57eb12aa",
      "metadata": {
        "id": "57eb12aa"
      },
      "source": [
        "## 8. Evaluation and Rendering"
      ]
    },
    {
      "cell_type": "code",
      "execution_count": 28,
      "id": "7781bc7d",
      "metadata": {
        "colab": {
          "base_uri": "https://localhost:8080/"
        },
        "id": "7781bc7d",
        "outputId": "93e40795-573c-4182-cbe3-cb101805fac7"
      },
      "outputs": [
        {
          "output_type": "stream",
          "name": "stderr",
          "text": [
            "WARNING:absl:Compiled the loaded model, but the compiled metrics have yet to be built. `model.compile_metrics` will be empty until you train or evaluate the model.\n",
            "WARNING:absl:Compiled the loaded model, but the compiled metrics have yet to be built. `model.compile_metrics` will be empty until you train or evaluate the model.\n"
          ]
        },
        {
          "output_type": "stream",
          "name": "stdout",
          "text": [
            "Standard load failed: Could not locate function 'mse'. Make sure custom classes are decorated with `@keras.saving.register_keras_serializable()`. Full object config: {'module': 'keras.metrics', 'class_name': 'function', 'config': 'mse', 'registered_name': 'mse'}\n",
            "Trying with custom objects...\n",
            "Models loaded successfully with custom objects\n",
            "Evaluation Score: 10.0\n",
            "Video saved to rl_artifacts/videos/cartpole_agent.mp4\n"
          ]
        }
      ],
      "source": [
        "import os\n",
        "import base64\n",
        "import numpy as np\n",
        "from IPython.display import HTML\n",
        "import gym\n",
        "from tensorflow.keras.losses import MSE as mean_squared_error\n",
        "from tensorflow.keras.models import load_model\n",
        "\n",
        "# Workaround for bool8 issue\n",
        "if not hasattr(np, 'bool8'):\n",
        "    np.bool8 = np.bool_\n",
        "\n",
        "# Load best model with custom objects\n",
        "try:\n",
        "    agent.load('cartpole_dqn_final')\n",
        "except Exception as e:\n",
        "    print(f\"Standard load failed: {str(e)}\")\n",
        "    print(\"Trying with custom objects...\")\n",
        "    try:\n",
        "        # Load manually with custom objects\n",
        "        agent.model = load_model('rl_artifacts/cartpole_dqn_final.h5',\n",
        "                                custom_objects={'mse': mean_squared_error})\n",
        "        agent.target_model = load_model('rl_artifacts/cartpole_dqn_final_target.h5',\n",
        "                                      custom_objects={'mse': mean_squared_error})\n",
        "        print(\"Models loaded successfully with custom objects\")\n",
        "    except Exception as e2:\n",
        "        print(f\"Failed to load models: {str(e2)}\")\n",
        "        print(\"Creating new agent as fallback\")\n",
        "        agent = DQNAgent(state_size, action_size)\n",
        "\n",
        "# Alternative video recording without RecordVideo\n",
        "video_frames = []\n",
        "total_reward = 0\n",
        "eval_env = gym.make('CartPole-v1', render_mode='rgb_array')\n",
        "\n",
        "# Handle different Gym API versions\n",
        "if gym.__version__ >= '0.26.0':\n",
        "    reset_result = eval_env.reset()\n",
        "    state = reset_result[0] if isinstance(reset_result, tuple) else reset_result\n",
        "else:\n",
        "    state = eval_env.reset()\n",
        "\n",
        "state = np.reshape(state, [1, state_size])\n",
        "\n",
        "for t in range(500):\n",
        "    # Capture frame before action\n",
        "    frame = eval_env.render()\n",
        "    # Ensure frame is a numpy array and remove extra dimension if present\n",
        "    if isinstance(frame, list):\n",
        "        frame = frame[0]  # Extract the first element if it's a list\n",
        "    if isinstance(frame, np.ndarray) and len(frame.shape) == 4 and frame.shape[0] == 1:\n",
        "        frame = frame.squeeze(0)\n",
        "    video_frames.append(frame)\n",
        "\n",
        "    action = np.argmax(agent.model.predict(state, verbose=0)[0])\n",
        "\n",
        "    # Handle API differences\n",
        "    if gym.__version__ >= '0.26.0':\n",
        "        step_result = eval_env.step(action)\n",
        "        if len(step_result) == 5:\n",
        "            next_state, reward, terminated, truncated, _ = step_result\n",
        "            done = terminated or truncated\n",
        "        else:\n",
        "            next_state, reward, done, _ = step_result\n",
        "    else:\n",
        "        step_result = eval_env.step(action)\n",
        "        if len(step_result) == 4:\n",
        "            next_state, reward, done, _ = step_result\n",
        "        else:\n",
        "            next_state, reward, done = step_result\n",
        "\n",
        "    state = np.reshape(next_state, [1, state_size])\n",
        "    total_reward += reward\n",
        "\n",
        "    if done:\n",
        "        # Capture final frame\n",
        "        frame = eval_env.render()\n",
        "        if isinstance(frame, list):\n",
        "            frame = frame[0]  # Extract the first element if it's a list\n",
        "        if isinstance(frame, np.ndarray) and len(frame.shape) == 4 and frame.shape[0] == 1:\n",
        "            frame = frame.squeeze(0)\n",
        "        video_frames.append(frame)\n",
        "        break\n",
        "\n",
        "eval_env.close()\n",
        "print(f\"Evaluation Score: {total_reward}\")\n",
        "\n",
        "# Save video manually if frames captured\n",
        "if video_frames:\n",
        "    try:\n",
        "        from matplotlib import animation\n",
        "        import matplotlib.pyplot as plt\n",
        "\n",
        "        # Create video directory\n",
        "        video_dir = 'rl_artifacts/videos'\n",
        "        os.makedirs(video_dir, exist_ok=True)\n",
        "        video_path = f'{video_dir}/cartpole_agent.mp4'\n",
        "\n",
        "        # Create animation\n",
        "        fig = plt.figure(figsize=(6, 4))\n",
        "        plt.axis('off')\n",
        "        im = plt.imshow(video_frames[0])\n",
        "\n",
        "        def update(frame):\n",
        "            im.set_array(frame)\n",
        "            return [im]\n",
        "\n",
        "        anim = animation.FuncAnimation(fig, update, frames=video_frames,\n",
        "                                      interval=50, blit=True)\n",
        "        anim.save(video_path, writer='ffmpeg', fps=30)\n",
        "        plt.close()\n",
        "\n",
        "        print(f\"Video saved to {video_path}\")\n",
        "\n",
        "        # Display video\n",
        "        mp4 = open(video_path, 'rb').read()\n",
        "        data_url = \"data:video/mp4;base64,\" + base64.b64encode(mp4).decode()\n",
        "        HTML(f\"\"\"\n",
        "        <video width=400 controls>\n",
        "              <source src=\"{data_url}\" type=\"video/mp4\">\n",
        "        </video>\n",
        "        \"\"\")\n",
        "    except Exception as e:\n",
        "        print(f\"Couldn't create video: {str(e)}\")\n",
        "        print(\"Showing last frame instead\")\n",
        "        plt.figure(figsize=(6, 4))\n",
        "        plt.imshow(video_frames[-1])\n",
        "        plt.axis('off')\n",
        "        plt.show()\n",
        "else:\n",
        "    print(\"No frames captured for video\")"
      ]
    },
    {
      "cell_type": "markdown",
      "id": "f218aef5",
      "metadata": {
        "id": "f218aef5"
      },
      "source": [
        "## 9. Model Architecture Summary"
      ]
    },
    {
      "cell_type": "code",
      "execution_count": 29,
      "id": "30b010c6",
      "metadata": {
        "colab": {
          "base_uri": "https://localhost:8080/",
          "height": 259
        },
        "id": "30b010c6",
        "outputId": "9d344dec-1150-4d48-97ca-16b199c4c762"
      },
      "outputs": [
        {
          "output_type": "display_data",
          "data": {
            "text/plain": [],
            "text/html": [
              "<pre style=\"white-space:pre;overflow-x:auto;line-height:normal;font-family:Menlo,'DejaVu Sans Mono',consolas,'Courier New',monospace\"></pre>\n"
            ]
          },
          "metadata": {}
        },
        {
          "output_type": "stream",
          "name": "stdout",
          "text": [
            "Model summary saved to model_summary.txt\n"
          ]
        },
        {
          "output_type": "display_data",
          "data": {
            "text/plain": [
              "\u001b[1mModel: \"sequential_5\"\u001b[0m\n"
            ],
            "text/html": [
              "<pre style=\"white-space:pre;overflow-x:auto;line-height:normal;font-family:Menlo,'DejaVu Sans Mono',consolas,'Courier New',monospace\"><span style=\"font-weight: bold\">Model: \"sequential_5\"</span>\n",
              "</pre>\n"
            ]
          },
          "metadata": {}
        },
        {
          "output_type": "display_data",
          "data": {
            "text/plain": [
              "┏━━━━━━━━━━━━━━━━━━━━━━━━━━━━━━━━━┳━━━━━━━━━━━━━━━━━━━━━━━━┳━━━━━━━━━━━━━━━┓\n",
              "┃\u001b[1m \u001b[0m\u001b[1mLayer (type)                   \u001b[0m\u001b[1m \u001b[0m┃\u001b[1m \u001b[0m\u001b[1mOutput Shape          \u001b[0m\u001b[1m \u001b[0m┃\u001b[1m \u001b[0m\u001b[1m      Param #\u001b[0m\u001b[1m \u001b[0m┃\n",
              "┡━━━━━━━━━━━━━━━━━━━━━━━━━━━━━━━━━╇━━━━━━━━━━━━━━━━━━━━━━━━╇━━━━━━━━━━━━━━━┩\n",
              "│ dense_15 (\u001b[38;5;33mDense\u001b[0m)                │ (\u001b[38;5;45mNone\u001b[0m, \u001b[38;5;34m24\u001b[0m)             │           \u001b[38;5;34m120\u001b[0m │\n",
              "├─────────────────────────────────┼────────────────────────┼───────────────┤\n",
              "│ dense_16 (\u001b[38;5;33mDense\u001b[0m)                │ (\u001b[38;5;45mNone\u001b[0m, \u001b[38;5;34m24\u001b[0m)             │           \u001b[38;5;34m600\u001b[0m │\n",
              "├─────────────────────────────────┼────────────────────────┼───────────────┤\n",
              "│ dense_17 (\u001b[38;5;33mDense\u001b[0m)                │ (\u001b[38;5;45mNone\u001b[0m, \u001b[38;5;34m2\u001b[0m)              │            \u001b[38;5;34m50\u001b[0m │\n",
              "└─────────────────────────────────┴────────────────────────┴───────────────┘\n"
            ],
            "text/html": [
              "<pre style=\"white-space:pre;overflow-x:auto;line-height:normal;font-family:Menlo,'DejaVu Sans Mono',consolas,'Courier New',monospace\">┏━━━━━━━━━━━━━━━━━━━━━━━━━━━━━━━━━┳━━━━━━━━━━━━━━━━━━━━━━━━┳━━━━━━━━━━━━━━━┓\n",
              "┃<span style=\"font-weight: bold\"> Layer (type)                    </span>┃<span style=\"font-weight: bold\"> Output Shape           </span>┃<span style=\"font-weight: bold\">       Param # </span>┃\n",
              "┡━━━━━━━━━━━━━━━━━━━━━━━━━━━━━━━━━╇━━━━━━━━━━━━━━━━━━━━━━━━╇━━━━━━━━━━━━━━━┩\n",
              "│ dense_15 (<span style=\"color: #0087ff; text-decoration-color: #0087ff\">Dense</span>)                │ (<span style=\"color: #00d7ff; text-decoration-color: #00d7ff\">None</span>, <span style=\"color: #00af00; text-decoration-color: #00af00\">24</span>)             │           <span style=\"color: #00af00; text-decoration-color: #00af00\">120</span> │\n",
              "├─────────────────────────────────┼────────────────────────┼───────────────┤\n",
              "│ dense_16 (<span style=\"color: #0087ff; text-decoration-color: #0087ff\">Dense</span>)                │ (<span style=\"color: #00d7ff; text-decoration-color: #00d7ff\">None</span>, <span style=\"color: #00af00; text-decoration-color: #00af00\">24</span>)             │           <span style=\"color: #00af00; text-decoration-color: #00af00\">600</span> │\n",
              "├─────────────────────────────────┼────────────────────────┼───────────────┤\n",
              "│ dense_17 (<span style=\"color: #0087ff; text-decoration-color: #0087ff\">Dense</span>)                │ (<span style=\"color: #00d7ff; text-decoration-color: #00d7ff\">None</span>, <span style=\"color: #00af00; text-decoration-color: #00af00\">2</span>)              │            <span style=\"color: #00af00; text-decoration-color: #00af00\">50</span> │\n",
              "└─────────────────────────────────┴────────────────────────┴───────────────┘\n",
              "</pre>\n"
            ]
          },
          "metadata": {}
        },
        {
          "output_type": "display_data",
          "data": {
            "text/plain": [
              "\u001b[1m Total params: \u001b[0m\u001b[38;5;34m772\u001b[0m (3.02 KB)\n"
            ],
            "text/html": [
              "<pre style=\"white-space:pre;overflow-x:auto;line-height:normal;font-family:Menlo,'DejaVu Sans Mono',consolas,'Courier New',monospace\"><span style=\"font-weight: bold\"> Total params: </span><span style=\"color: #00af00; text-decoration-color: #00af00\">772</span> (3.02 KB)\n",
              "</pre>\n"
            ]
          },
          "metadata": {}
        },
        {
          "output_type": "display_data",
          "data": {
            "text/plain": [
              "\u001b[1m Trainable params: \u001b[0m\u001b[38;5;34m770\u001b[0m (3.01 KB)\n"
            ],
            "text/html": [
              "<pre style=\"white-space:pre;overflow-x:auto;line-height:normal;font-family:Menlo,'DejaVu Sans Mono',consolas,'Courier New',monospace\"><span style=\"font-weight: bold\"> Trainable params: </span><span style=\"color: #00af00; text-decoration-color: #00af00\">770</span> (3.01 KB)\n",
              "</pre>\n"
            ]
          },
          "metadata": {}
        },
        {
          "output_type": "display_data",
          "data": {
            "text/plain": [
              "\u001b[1m Non-trainable params: \u001b[0m\u001b[38;5;34m0\u001b[0m (0.00 B)\n"
            ],
            "text/html": [
              "<pre style=\"white-space:pre;overflow-x:auto;line-height:normal;font-family:Menlo,'DejaVu Sans Mono',consolas,'Courier New',monospace\"><span style=\"font-weight: bold\"> Non-trainable params: </span><span style=\"color: #00af00; text-decoration-color: #00af00\">0</span> (0.00 B)\n",
              "</pre>\n"
            ]
          },
          "metadata": {}
        },
        {
          "output_type": "display_data",
          "data": {
            "text/plain": [
              "\u001b[1m Optimizer params: \u001b[0m\u001b[38;5;34m2\u001b[0m (12.00 B)\n"
            ],
            "text/html": [
              "<pre style=\"white-space:pre;overflow-x:auto;line-height:normal;font-family:Menlo,'DejaVu Sans Mono',consolas,'Courier New',monospace\"><span style=\"font-weight: bold\"> Optimizer params: </span><span style=\"color: #00af00; text-decoration-color: #00af00\">2</span> (12.00 B)\n",
              "</pre>\n"
            ]
          },
          "metadata": {}
        }
      ],
      "source": [
        "with open('model_summary.txt', 'w') as f:\n",
        "    agent.model.summary(print_fn=lambda x: f.write(x + '\\n'))\n",
        "\n",
        "print(\"Model summary saved to model_summary.txt\")\n",
        "agent.model.summary()"
      ]
    }
  ],
  "metadata": {
    "accelerator": "GPU",
    "kernelspec": {
      "display_name": "Python 3",
      "language": "python",
      "name": "python3"
    },
    "language_info": {
      "codemirror_mode": {
        "name": "ipython",
        "version": 3
      },
      "file_extension": ".py",
      "mimetype": "text/x-python",
      "name": "python",
      "nbconvert_exporter": "python",
      "pygments_lexer": "ipython3",
      "version": "3.8.5"
    },
    "colab": {
      "provenance": [],
      "include_colab_link": true
    }
  },
  "nbformat": 4,
  "nbformat_minor": 5
}
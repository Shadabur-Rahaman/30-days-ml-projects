📓 Day 2 – Advanced EDA & Feature Engineering
Dataset Used: Titanic / House Prices / Heart Disease / Your Own
# ========== 1. Setup ==========
import pandas as pd
import numpy as np
import matplotlib.pyplot as plt
import seaborn as sns
import os

# Optional: for clean visuals
sns.set(style="whitegrid")

# If using kagglehub (requires API key setup)
import kagglehub

# Download latest version of the dataset
path = kagglehub.dataset_download("mirichoi0218/insurance")

print("Path to dataset files:", path)

# List all files in the downloaded directory
for file in os.listdir(path):
    print(file)

# Load the dataset (typically it's 'insurance.csv')
df = pd.read_csv(os.path.join(path, "insurance.csv"))
df.head()

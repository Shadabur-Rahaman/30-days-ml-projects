{
 "cells": [
  {
   "cell_type": "markdown",
   "id": "d47d6426",
   "metadata": {},
   "source": [
    "# Day 4: K-Nearest Neighbors (KNN) Classifier on Iris Dataset"
   ]
  },
  {
   "cell_type": "markdown",
   "id": "5c9b88c3",
   "metadata": {},
   "source": [
    "### 🌸 Goal:\n",
    "Classify iris species using KNN algorithm."
   ]
  },
  {
   "cell_type": "code",
   "execution_count": null,
   "id": "b0fd3d0e",
   "metadata": {},
   "outputs": [],
   "source": [
    "# 📚 Import Libraries\n",
    "import pandas as pd\n",
    "import numpy as np\n",
    "import seaborn as sns\n",
    "import matplotlib.pyplot as plt\n",
    "from sklearn.datasets import load_iris\n",
    "from sklearn.neighbors import KNeighborsClassifier\n",
    "from sklearn.model_selection import train_test_split, cross_val_score\n",
    "from sklearn.preprocessing import StandardScaler\n",
    "from sklearn.metrics import classification_report, accuracy_score, confusion_matrix"
   ]
  },
  {
   "cell_type": "code",
   "execution_count": null,
   "id": "9ff0b522",
   "metadata": {},
   "outputs": [],
   "source": [
    "# 📂 Load Iris Dataset\n",
    "iris = load_iris()\n",
    "X = pd.DataFrame(iris.data, columns=iris.feature_names)\n",
    "y = pd.Series(iris.target, name='species')"
   ]
  },
  {
   "cell_type": "code",
   "execution_count": null,
   "id": "a0dfa781",
   "metadata": {},
   "outputs": [],
   "source": [
    "# 👀 Explore Dataset\n",
    "print(X.head())\n",
    "print(X.describe())\n",
    "print(\"Target Classes:\", np.unique(y))\n",
    "sns.pairplot(pd.concat([X, y], axis=1), hue='species')"
   ]
  },
  {
   "cell_type": "code",
   "execution_count": null,
   "id": "9218fdd9",
   "metadata": {},
   "outputs": [],
   "source": [
    "# 📐 Feature Scaling\n",
    "scaler = StandardScaler()\n",
    "X_scaled = scaler.fit_transform(X)"
   ]
  },
  {
   "cell_type": "code",
   "execution_count": null,
   "id": "5ddfd931",
   "metadata": {},
   "outputs": [],
   "source": [
    "# 🧠 Train/Test Split\n",
    "X_train, X_val, y_train, y_val = train_test_split(X_scaled, y, test_size=0.2, random_state=42)"
   ]
  },
  {
   "cell_type": "code",
   "execution_count": null,
   "id": "766f44ef",
   "metadata": {},
   "outputs": [],
   "source": [
    "# 🔍 Model Training: KNN Classifier\n",
    "knn = KNeighborsClassifier(n_neighbors=5)\n",
    "knn.fit(X_train, y_train)"
   ]
  },
  {
   "cell_type": "code",
   "execution_count": null,
   "id": "df72f672",
   "metadata": {},
   "outputs": [],
   "source": [
    "# 🧪 Evaluation\n",
    "y_pred = knn.predict(X_val)\n",
    "print(\"Accuracy:\", accuracy_score(y_val, y_pred))\n",
    "print(\"Classification Report:\\n\", classification_report(y_val, y_pred))\n",
    "sns.heatmap(confusion_matrix(y_val, y_pred), annot=True, fmt='d', cmap='Greens')"
   ]
  },
  {
   "cell_type": "code",
   "execution_count": null,
   "id": "0a27701a",
   "metadata": {},
   "outputs": [],
   "source": [
    "# 🔄 Cross-validation\n",
    "cv_scores = cross_val_score(knn, X_scaled, y, cv=5)\n",
    "print(\"CV Accuracy: {:.2f} ± {:.2f}\".format(cv_scores.mean(), cv_scores.std()))"
   ]
  },
  {
   "cell_type": "markdown",
   "id": "27646cfe",
   "metadata": {},
   "source": [
    "### ✅ Summary:\n",
    "- Used KNN (k=5) on Iris Dataset\n",
    "- Standardized features using `StandardScaler`\n",
    "- Achieved high accuracy with cross-validation\n",
    "- Visualized classification performance\n",
    "- Ideal for basic multi-class classification demo"
   ]
  }
 ],
 "metadata": {},
 "nbformat": 4,
 "nbformat_minor": 5
}

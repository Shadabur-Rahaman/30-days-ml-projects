# Day 4 - K-Nearest Neighbors Classifier
# Task: Implement KNN, tune K, test on Iris dataset

# Install necessary packages
!pip install -q scikit-learn matplotlib seaborn

# Import Libraries
import numpy as np
import pandas as pd
import matplotlib.pyplot as plt
import seaborn as sns
from sklearn import datasets
from sklearn.model_selection import train_test_split
from sklearn.preprocessing import StandardScaler
from sklearn.neighbors import KNeighborsClassifier
from sklearn.metrics import classification_report, confusion_matrix

# Load Dataset
iris = datasets.load_iris()
X = iris.data
y = iris.target
target_names = iris.target_names

# Convert to DataFrame
df = pd.DataFrame(X, columns=iris.feature_names)
df["target"] = y
df["target_name"] = df["target"].apply(lambda i: target_names[i])
df.head()

# Visualize with Seaborn
sns.pairplot(df, hue="target_name", palette="bright")
plt.suptitle("Iris Dataset Feature Distribution", y=1.02)
plt.show()

# Train-test split
X_train, X_test, y_train, y_test = train_test_split(X, y, test_size=0.2, random_state=42)

# Standardize features
scaler = StandardScaler()
X_train_scaled = scaler.fit_transform(X_train)
X_test_scaled = scaler.transform(X_test)

# Try different K values
error_rates = []
for k in range(1, 21):
    knn = KNeighborsClassifier(n_neighbors=k)
    knn.fit(X_train_scaled, y_train)
    pred_k = knn.predict(X_test_scaled)
    error = np.mean(pred_k != y_test)
    error_rates.append(error)

# Plot Error vs K
plt.figure(figsize=(10, 6))
plt.plot(range(1, 21), error_rates, marker='o', linestyle='--')
plt.title("Error Rate vs K Value")
plt.xlabel("K")
plt.ylabel("Error Rate")
plt.xticks(range(1, 21))
plt.grid()
plt.show()

# Final Model with Best K
best_k = error_rates.index(min(error_rates)) + 1
print(f"Best K: {best_k}")

model = KNeighborsClassifier(n_neighbors=best_k)
model.fit(X_train_scaled, y_train)
y_pred = model.predict(X_test_scaled)

# Evaluate
print("\nClassification Report:")
print(classification_report(y_test, y_pred, target_names=target_names))

print("Confusion Matrix:")
sns.heatmap(confusion_matrix(y_test, y_pred), annot=True, fmt='d',
            xticklabels=target_names, yticklabels=target_names, cmap='Blues')
plt.xlabel("Predicted")
plt.ylabel("Actual")
plt.title("KNN Confusion Matrix")
plt.show()

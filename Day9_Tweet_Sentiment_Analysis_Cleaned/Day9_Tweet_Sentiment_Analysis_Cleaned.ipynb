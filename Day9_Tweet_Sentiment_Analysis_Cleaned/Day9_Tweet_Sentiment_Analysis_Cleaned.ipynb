{
  "cells": [
    {
      "cell_type": "markdown",
      "metadata": {},
      "source": [
        "# \ud83d\udcac Day 9: Sentiment Analysis on Tweets using VADER\n",
        "\n",
        "Today we\u2019ll perform **sentiment analysis** on a set of tweets using the **VADER (Valence Aware Dictionary and sEntiment Reasoner)** sentiment scoring tool.\n",
        "\n",
        "### Steps:\n",
        "- Load tweets dataset\n",
        "- Clean and preprocess text\n",
        "- Use VADER to compute sentiment scores\n",
        "- Classify tweets as Positive, Negative, or Neutral\n",
        "- Visualize results"
      ]
    },
    {
      "cell_type": "code",
      "execution_count": null,
      "metadata": {},
      "outputs": [],
      "source": [
        "# \ud83d\udce6 Install & Import Libraries\n",
        "!pip install vaderSentiment --quiet\n",
        "import pandas as pd\n",
        "import matplotlib.pyplot as plt\n",
        "import seaborn as sns\n",
        "from vaderSentiment.vaderSentiment import SentimentIntensityAnalyzer"
      ]
    },
    {
      "cell_type": "code",
      "execution_count": null,
      "metadata": {},
      "outputs": [],
      "source": [
        "# \ud83d\udce5 Load Dataset (sample tweets)\n",
        "tweets = [\n",
        "    \"I love the new design of your website! \ud83d\ude0d\",\n",
        "    \"I am so tired of this rain.\",\n",
        "    \"What an amazing experience! #blessed\",\n",
        "    \"Worst customer service ever.\",\n",
        "    \"Not sure how I feel about this...\",\n",
        "    \"The movie was okay, not great but not terrible either.\",\n",
        "    \"This product is awful, waste of money!\",\n",
        "    \"Thank you for the quick support! \ud83d\ude0a\",\n",
        "    \"Completely neutral about this topic.\",\n",
        "    \"I hate when this happens \ud83d\ude20\"\n",
        "]\n",
        "df = pd.DataFrame(tweets, columns=[\"Tweet\"])\n",
        "df.head()"
      ]
    },
    {
      "cell_type": "code",
      "execution_count": null,
      "metadata": {},
      "outputs": [],
      "source": [
        "# \ud83d\udd0d Apply VADER Sentiment Analysis\n",
        "analyzer = SentimentIntensityAnalyzer()\n",
        "\n",
        "def get_sentiment(text):\n",
        "    score = analyzer.polarity_scores(text)\n",
        "    compound = score['compound']\n",
        "    if compound >= 0.05:\n",
        "        return 'Positive'\n",
        "    elif compound <= -0.05:\n",
        "        return 'Negative'\n",
        "    else:\n",
        "        return 'Neutral'\n",
        "\n",
        "df['Sentiment'] = df['Tweet'].apply(get_sentiment)\n",
        "df"
      ]
    },
    {
      "cell_type": "code",
      "execution_count": null,
      "metadata": {},
      "outputs": [],
      "source": [
        "# \ud83d\udcca Sentiment Distribution\n",
        "sns.countplot(data=df, x='Sentiment', palette='Set2')\n",
        "plt.title(\"Sentiment Analysis on Sample Tweets\")\n",
        "plt.xlabel(\"Sentiment\")\n",
        "plt.ylabel(\"Tweet Count\")\n",
        "plt.grid(True)\n",
        "plt.show()"
      ]
    }
  ],
  "metadata": {
    "kernelspec": {
      "display_name": "Python 3",
      "language": "python",
      "name": "python3"
    },
    "language_info": {
      "name": "python",
      "version": "3.8"
    }
  },
  "nbformat": 4,
  "nbformat_minor": 5
}
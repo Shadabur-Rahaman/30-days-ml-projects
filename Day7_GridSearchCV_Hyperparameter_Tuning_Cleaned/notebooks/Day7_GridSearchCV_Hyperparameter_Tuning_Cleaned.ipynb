{
  "cells": [
    {
      "cell_type": "markdown",
      "metadata": {
        "id": "view-in-github",
        "colab_type": "text"
      },
      "source": [
        "<a href=\"https://colab.research.google.com/github/Shadabur-Rahaman/30-days-ml-projects/blob/main/Day7_GridSearchCV_Hyperparameter_Tuning_Cleaned/notebooks/Day7_GridSearchCV_Hyperparameter_Tuning_Cleaned.ipynb\" target=\"_parent\"><img src=\"https://colab.research.google.com/assets/colab-badge.svg\" alt=\"Open In Colab\"/></a>"
      ]
    },
    {
      "cell_type": "markdown",
      "metadata": {
        "id": "AI1QCj6nE848"
      },
      "source": [
        "# 🔧 Day 7: Hyperparameter Tuning with GridSearchCV\n",
        "\n",
        "Today we explore **Hyperparameter Tuning** using `GridSearchCV` on the Iris dataset with a **Random Forest Classifier**.\n",
        "\n",
        "We'll:\n",
        "- Use GridSearchCV to tune hyperparameters\n",
        "- Evaluate the best model\n",
        "- Understand the impact of tuning on performance\n"
      ],
      "id": "AI1QCj6nE848"
    },
    {
      "cell_type": "code",
      "execution_count": null,
      "metadata": {
        "id": "K6nQXzklE84-"
      },
      "outputs": [],
      "source": [
        "# 📦 Import Libraries\n",
        "import pandas as pd\n",
        "import numpy as np\n",
        "import matplotlib.pyplot as plt\n",
        "import seaborn as sns\n",
        "from sklearn.datasets import load_iris\n",
        "from sklearn.ensemble import RandomForestClassifier\n",
        "from sklearn.model_selection import train_test_split, GridSearchCV\n",
        "from sklearn.metrics import classification_report, confusion_matrix\n"
      ],
      "id": "K6nQXzklE84-"
    },
    {
      "cell_type": "code",
      "execution_count": null,
      "metadata": {
        "id": "Sg7DPdcaE85A"
      },
      "outputs": [],
      "source": [
        "# 📥 Load Dataset\n",
        "iris = load_iris()\n",
        "X = pd.DataFrame(iris.data, columns=iris.feature_names)\n",
        "y = pd.Series(iris.target)\n",
        "X.head()"
      ],
      "id": "Sg7DPdcaE85A"
    },
    {
      "cell_type": "code",
      "execution_count": null,
      "metadata": {
        "id": "t2A5oUf_E85A"
      },
      "outputs": [],
      "source": [
        "# 🔍 Train-Test Split\n",
        "X_train, X_test, y_train, y_test = train_test_split(X, y, test_size=0.2, random_state=42)"
      ],
      "id": "t2A5oUf_E85A"
    },
    {
      "cell_type": "code",
      "execution_count": null,
      "metadata": {
        "id": "YWloAutdE85A"
      },
      "outputs": [],
      "source": [
        "# 🧪 Define Model and Hyperparameter Grid\n",
        "rf = RandomForestClassifier(random_state=42)\n",
        "param_grid = {\n",
        "    'n_estimators': [50, 100, 150],\n",
        "    'max_depth': [None, 3, 5, 10],\n",
        "    'min_samples_split': [2, 4, 6]\n",
        "}"
      ],
      "id": "YWloAutdE85A"
    },
    {
      "cell_type": "code",
      "execution_count": null,
      "metadata": {
        "id": "5HL8yS1NE85B"
      },
      "outputs": [],
      "source": [
        "# 🔍 GridSearchCV\n",
        "grid_search = GridSearchCV(estimator=rf, param_grid=param_grid,\n",
        "                           cv=5, scoring='accuracy', verbose=1, n_jobs=-1)\n",
        "grid_search.fit(X_train, y_train)\n",
        "print(\"Best Parameters:\", grid_search.best_params_)\n",
        "results = pd.DataFrame(grid_search.cv_results_)\n",
        "heatmap_data = results.pivot_table(\n",
        "    index='param_max_depth',\n",
        "    columns='param_n_estimators',\n",
        "    values='mean_test_score'\n",
        ")\n",
        "\n",
        "# Plotting heatmap\n",
        "plt.figure(figsize=(10, 6))\n",
        "sns.heatmap(heatmap_data, annot=True, fmt=\".3f\", cmap=\"YlGnBu\")\n",
        "plt.title(\"GridSearchCV Accuracy Heatmap\")\n",
        "plt.xlabel(\"n_estimators\")\n",
        "plt.ylabel(\"max_depth\")\n",
        "plt.tight_layout()\n",
        "\n",
        "# Save heatmap\n",
        "plt.savefig(\"gridsearch_heatmap.png\")\n",
        "plt.show()"
      ],
      "id": "5HL8yS1NE85B"
    },
    {
      "cell_type": "code",
      "source": [
        "# Step 1: Get the results from grid search\n",
        "results_df = pd.DataFrame(grid_search.cv_results_)\n",
        "\n",
        "# Step 2: Create a readable string label for each parameter set\n",
        "results_df['param_combo'] = results_df['params'].apply(lambda x: str(x))\n",
        "\n",
        "# Step 3: Sort results by mean_test_score\n",
        "results_df = results_df.sort_values(by='mean_test_score', ascending=False)\n",
        "\n",
        "# Step 4: Plot the top N (e.g., 10) parameter combinations\n",
        "top_n = 10\n",
        "plt.figure(figsize=(12, 6))\n",
        "sns.barplot(data=results_df.head(top_n), x='mean_test_score', y='param_combo', palette='viridis')\n",
        "\n",
        "plt.xlabel(\"Mean Accuracy (CV)\")\n",
        "plt.ylabel(\"Parameter Set\")\n",
        "plt.title(\"Top GridSearchCV Parameter Sets by Accuracy\")\n",
        "plt.tight_layout()\n",
        "\n",
        "# Save plot\n",
        "plt.savefig(\"accuracy_barplot.png\")\n",
        "plt.show()"
      ],
      "metadata": {
        "id": "Ds3eu5eWFCVH"
      },
      "id": "Ds3eu5eWFCVH",
      "execution_count": null,
      "outputs": []
    },
    {
      "cell_type": "code",
      "execution_count": null,
      "metadata": {
        "id": "NmkMEx0CE85B"
      },
      "outputs": [],
      "source": [
        "# ✅ Evaluate Tuned Model\n",
        "best_model = grid_search.best_estimator_\n",
        "y_pred = best_model.predict(X_test)\n",
        "print(\"Classification Report:\\n\", classification_report(y_test, y_pred))\n",
        "print(\"Confusion Matrix:\\n\", confusion_matrix(y_test, y_pred))"
      ],
      "id": "NmkMEx0CE85B"
    }
  ],
  "metadata": {
    "kernelspec": {
      "display_name": "Python 3",
      "language": "python",
      "name": "python3"
    },
    "language_info": {
      "name": "python",
      "version": "3.8"
    },
    "colab": {
      "provenance": [],
      "include_colab_link": true
    }
  },
  "nbformat": 4,
  "nbformat_minor": 5
}
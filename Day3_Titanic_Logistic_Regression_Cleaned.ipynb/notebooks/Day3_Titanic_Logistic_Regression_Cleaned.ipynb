{
  "cells": [
    {
      "cell_type": "markdown",
      "metadata": {
        "id": "view-in-github",
        "colab_type": "text"
      },
      "source": [
        "<a href=\"https://colab.research.google.com/github/Shadabur-Rahaman/30-days-ml-projects/blob/main/Day3_Titanic_Logistic_Regression_Cleaned.ipynb/notebooks/Day3_Titanic_Logistic_Regression_Cleaned.ipynb\" target=\"_parent\"><img src=\"https://colab.research.google.com/assets/colab-badge.svg\" alt=\"Open In Colab\"/></a>"
      ]
    },
    {
      "cell_type": "markdown",
      "id": "774b57e6",
      "metadata": {
        "id": "774b57e6"
      },
      "source": [
        "# Day 3: Titanic Survival Prediction with Logistic Regression"
      ]
    },
    {
      "cell_type": "markdown",
      "id": "f57c2dc3",
      "metadata": {
        "id": "f57c2dc3"
      },
      "source": [
        "### 🧠 Goal:\n",
        "Predict survival on the Titanic using logistic regression (Kaggle dataset)."
      ]
    },
    {
      "cell_type": "code",
      "execution_count": null,
      "id": "5c2c2dc6",
      "metadata": {
        "id": "5c2c2dc6"
      },
      "outputs": [],
      "source": [
        "# 📚 Import Libraries\n",
        "import pandas as pd\n",
        "import numpy as np\n",
        "import seaborn as sns\n",
        "import matplotlib.pyplot as plt\n",
        "from sklearn.linear_model import LogisticRegression\n",
        "from sklearn.model_selection import train_test_split, cross_val_score\n",
        "from sklearn.preprocessing import StandardScaler\n",
        "from sklearn.metrics import classification_report, accuracy_score, confusion_matrix"
      ]
    },
    {
      "cell_type": "code",
      "execution_count": null,
      "id": "cb41d3b0",
      "metadata": {
        "id": "cb41d3b0"
      },
      "outputs": [],
      "source": [
        "# 📂 Load Datasets\n",
        "train = pd.read_csv('train.csv')\n",
        "test = pd.read_csv('test.csv')"
      ]
    },
    {
      "cell_type": "code",
      "execution_count": null,
      "id": "0916b6d9",
      "metadata": {
        "id": "0916b6d9"
      },
      "outputs": [],
      "source": [
        "# 👀 Data Overview\n",
        "print(train.head())\n",
        "print(train.info())\n",
        "print(train.describe())\n",
        "print(train.isnull().sum())"
      ]
    },
    {
      "cell_type": "code",
      "execution_count": null,
      "id": "33a2d51f",
      "metadata": {
        "id": "33a2d51f"
      },
      "outputs": [],
      "source": [
        "# 🧹 Data Cleaning & Imputation\n",
        "train['Age'].fillna(train['Age'].median(), inplace=True)\n",
        "train['Embarked'].fillna(train['Embarked'].mode()[0], inplace=True)\n",
        "train = train.drop(['cabin'], axis=1, errors='ignore')\n",
        "\n",
        "test['Age'].fillna(test['Age'].median(), inplace=True)\n",
        "test['Fare'].fillna(test['Fare'].median(), inplace=True)\n",
        "test = test.drop(['cabin'], axis=1, errors='ignore')"
      ]
    },
    {
      "cell_type": "code",
      "execution_count": null,
      "id": "af33a16c",
      "metadata": {
        "id": "af33a16c"
      },
      "outputs": [],
      "source": [
        "# 🔧 Feature Engineering\n",
        "for dataset in [train, test]:\n",
        "    dataset['Sex'] = dataset['Sex'].map({'male': 0, 'female': 1})\n",
        "    dataset['Embarked'] = dataset['Embarked'].map({'S': 0, 'C': 1, 'Q': 2})\n",
        "    dataset['FamilySize'] = dataset['SibSp'] + dataset['Parch'] + 1"
      ]
    },
    {
      "cell_type": "code",
      "execution_count": null,
      "id": "9dc880d9",
      "metadata": {
        "id": "9dc880d9"
      },
      "outputs": [],
      "source": [
        "# 🎯 Feature Selection\n",
        "features = ['Pclass', 'Sex', 'Age', 'Fare', 'Embarked', 'FamilySize']\n",
        "X = train[features]\n",
        "y = train['Survived']"
      ]
    },
    {
      "cell_type": "code",
      "execution_count": null,
      "id": "f3df1fd4",
      "metadata": {
        "id": "f3df1fd4"
      },
      "outputs": [],
      "source": [
        "# 📐 Feature Scaling\n",
        "scaler = StandardScaler()\n",
        "X_scaled = scaler.fit_transform(X)\n",
        "X_test_scaled = scaler.transform(test[features])"
      ]
    },
    {
      "cell_type": "code",
      "execution_count": null,
      "id": "8a8dcb35",
      "metadata": {
        "id": "8a8dcb35"
      },
      "outputs": [],
      "source": [
        "# 🧠 Train/Test Split\n",
        "X_train, X_val, y_train, y_val = train_test_split(X_scaled, y, test_size=0.2, random_state=42)"
      ]
    },
    {
      "cell_type": "code",
      "execution_count": null,
      "id": "2b92ca51",
      "metadata": {
        "id": "2b92ca51"
      },
      "outputs": [],
      "source": [
        "# 🚂 Model Training\n",
        "model = LogisticRegression()\n",
        "model.fit(X_train, y_train)"
      ]
    },
    {
      "cell_type": "code",
      "execution_count": null,
      "id": "12f3dee3",
      "metadata": {
        "id": "12f3dee3"
      },
      "outputs": [],
      "source": [
        "# 🧪 Evaluation\n",
        "y_pred = model.predict(X_val)\n",
        "print(\"Accuracy:\", accuracy_score(y_val, y_pred))\n",
        "print(\"Classification Report:\\n\", classification_report(y_val, y_pred))\n",
        "sns.heatmap(confusion_matrix(y_val, y_pred), annot=True, fmt='d', cmap='Blues')"
      ]
    },
    {
      "cell_type": "code",
      "execution_count": null,
      "id": "9b27e1d5",
      "metadata": {
        "id": "9b27e1d5"
      },
      "outputs": [],
      "source": [
        "# 🔄 Cross-validation\n",
        "cv_scores = cross_val_score(model, X_scaled, y, cv=5)\n",
        "print(\"CV Accuracy: {:.2f} ± {:.2f}\".format(cv_scores.mean(), cv_scores.std()))"
      ]
    },
    {
      "cell_type": "code",
      "execution_count": null,
      "id": "30cb35a0",
      "metadata": {
        "id": "30cb35a0"
      },
      "outputs": [],
      "source": [
        "# 📤 Kaggle Submission\n",
        "submission = pd.DataFrame({\n",
        "    'PassengerId': test['PassengerId'],\n",
        "    'Survived': model.predict(X_test_scaled)\n",
        "})\n",
        "submission.to_csv('submission.csv', index=False)"
      ]
    },
    {
      "cell_type": "markdown",
      "id": "55451acd",
      "metadata": {
        "id": "55451acd"
      },
      "source": [
        "### ✅ Summary:\n",
        "- Used Logistic Regression for binary classification\n",
        "- Handled missing values and performed encoding\n",
        "- Feature engineered family size\n",
        "- Evaluated with accuracy, confusion matrix, cross-validation\n",
        "- Ready for Kaggle submission!"
      ]
    }
  ],
  "metadata": {
    "colab": {
      "provenance": [],
      "include_colab_link": true
    },
    "kernelspec": {
      "display_name": "Python 3",
      "name": "python3"
    },
    "language_info": {
      "name": "python"
    }
  },
  "nbformat": 4,
  "nbformat_minor": 5
}
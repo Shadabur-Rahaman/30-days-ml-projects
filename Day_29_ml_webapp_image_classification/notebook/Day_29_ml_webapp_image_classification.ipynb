{
  "cells": [
    {
      "cell_type": "markdown",
      "metadata": {
        "id": "view-in-github",
        "colab_type": "text"
      },
      "source": [
        "<a href=\"https://colab.research.google.com/github/Shadabur-Rahaman/30-days-ml-projects/blob/main/Day_29_ml_webapp_image_classification/notebook/Day_29_ml_webapp_image_classification.ipynb\" target=\"_parent\"><img src=\"https://colab.research.google.com/assets/colab-badge.svg\" alt=\"Open In Colab\"/></a>"
      ]
    },
    {
      "cell_type": "markdown",
      "id": "fd56ad1e",
      "metadata": {
        "id": "fd56ad1e"
      },
      "source": [
        "# ML Model Deployment with Gradio\n",
        "## Day 29/30 of Machine Learning Project\n",
        "\n",
        "**Project Goal**: Create a web interface to demo your trained ML model using Gradio\n",
        "**Key Features**:\n",
        "- Simple UI for model predictions\n",
        "- Support for text/image/audio input\n",
        "- Shareable public link\n",
        "- Customizable interface"
      ]
    },
    {
      "cell_type": "markdown",
      "id": "e8fc5a49",
      "metadata": {
        "id": "e8fc5a49"
      },
      "source": [
        "## 1. Install and Import Required Libraries"
      ]
    },
    {
      "cell_type": "code",
      "execution_count": 12,
      "id": "beb2be24",
      "metadata": {
        "id": "beb2be24"
      },
      "outputs": [],
      "source": [
        "import gradio as gr\n",
        "import torch\n",
        "import torchvision.transforms as transforms\n",
        "from PIL import Image\n",
        "import requests\n",
        "import os\n",
        "from datetime import datetime\n",
        "import csv"
      ]
    },
    {
      "cell_type": "markdown",
      "id": "845c0750",
      "metadata": {
        "id": "845c0750"
      },
      "source": [
        "## 2. Load Your Trained Model"
      ]
    },
    {
      "cell_type": "code",
      "execution_count": 13,
      "id": "f5eb9df7",
      "metadata": {
        "colab": {
          "base_uri": "https://localhost:8080/"
        },
        "id": "f5eb9df7",
        "outputId": "b7e24fe2-379c-4ebe-b2c4-39875648133d"
      },
      "outputs": [
        {
          "output_type": "stream",
          "name": "stderr",
          "text": [
            "Using cache found in /root/.cache/torch/hub/pytorch_vision_v0.10.0\n",
            "/usr/local/lib/python3.11/dist-packages/torchvision/models/_utils.py:208: UserWarning: The parameter 'pretrained' is deprecated since 0.13 and may be removed in the future, please use 'weights' instead.\n",
            "  warnings.warn(\n",
            "/usr/local/lib/python3.11/dist-packages/torchvision/models/_utils.py:223: UserWarning: Arguments other than a weight enum or `None` for 'weights' are deprecated since 0.13 and may be removed in the future. The current behavior is equivalent to passing `weights=ResNet50_Weights.IMAGENET1K_V1`. You can also use `weights=ResNet50_Weights.DEFAULT` to get the most up-to-date weights.\n",
            "  warnings.warn(msg)\n"
          ]
        }
      ],
      "source": [
        "# Create output directories\n",
        "os.makedirs(\"saved_images\", exist_ok=True)\n",
        "os.makedirs(\"predictions\", exist_ok=True)\n",
        "\n",
        "# 1. Load pre-trained ResNet model\n",
        "model = torch.hub.load('pytorch/vision:v0.10.0', 'resnet50', pretrained=True)\n",
        "model.eval()\n",
        "\n",
        "# 2. Download ImageNet class labels\n",
        "response = requests.get(\"https://raw.githubusercontent.com/pytorch/hub/master/imagenet_classes.txt\")\n",
        "labels = response.text.split(\"\\n\")"
      ]
    },
    {
      "cell_type": "markdown",
      "id": "29087dca",
      "metadata": {
        "id": "29087dca"
      },
      "source": [
        "## 3. Define Prediction Functions"
      ]
    },
    {
      "cell_type": "code",
      "execution_count": 15,
      "id": "5d9bd0a1",
      "metadata": {
        "id": "5d9bd0a1"
      },
      "outputs": [],
      "source": [
        "# 3. Preprocessing function\n",
        "def preprocess_image(image):\n",
        "    transform = transforms.Compose([\n",
        "        transforms.Resize(256),\n",
        "        transforms.CenterCrop(224),\n",
        "        transforms.ToTensor(),\n",
        "        transforms.Normalize(\n",
        "            mean=[0.485, 0.456, 0.406],\n",
        "            std=[0.229, 0.224, 0.225]\n",
        "        )\n",
        "    ])\n",
        "    return transform(image).unsqueeze(0)\n",
        "\n",
        "# 4. Prediction and saving function\n",
        "def classify_and_save(img):\n",
        "    # Handle different input types\n",
        "    if isinstance(img, str):  # File path\n",
        "        img_pil = Image.open(img).convert('RGB')\n",
        "    elif isinstance(img, np.ndarray):  # Numpy array\n",
        "        img_pil = Image.fromarray(img.astype('uint8'), 'RGB')\n",
        "    else:  # Gradio temp file\n",
        "        img_pil = Image.open(img.name).convert('RGB')\n",
        "\n",
        "    # Create timestamp\n",
        "    timestamp = datetime.now().strftime(\"%Y%m%d_%H%M%S\")\n",
        "\n",
        "    # Save original image\n",
        "    orig_img_path = f\"saved_images/original_{timestamp}.jpg\"\n",
        "    img_pil.save(orig_img_path)\n",
        "\n",
        "    # Preprocess and predict\n",
        "    input_tensor = preprocess_image(img_pil)\n",
        "    with torch.no_grad():\n",
        "        output = model(input_tensor)\n",
        "\n",
        "    # Get probabilities\n",
        "    probabilities = torch.nn.functional.softmax(output[0], dim=0)\n",
        "    top5_prob, top5_catid = torch.topk(probabilities, 5)\n",
        "\n",
        "    # Prepare results\n",
        "    results = {\n",
        "        labels[top5_catid[i]]: float(top5_prob[i])\n",
        "        for i in range(top5_prob.size(0))\n",
        "    }\n",
        "\n",
        "    # Save predictions to CSV\n",
        "    csv_path = f\"predictions/predictions_{timestamp}.csv\"\n",
        "    with open(csv_path, 'w', newline='') as csvfile:\n",
        "        writer = csv.writer(csvfile)\n",
        "        writer.writerow(['Class', 'Confidence'])\n",
        "        for class_name, confidence in results.items():\n",
        "            writer.writerow([class_name, f\"{confidence:.4f}\"])\n",
        "\n",
        "    # Create annotated image\n",
        "    img_annotated = img_pil.copy()\n",
        "    return results, orig_img_path, csv_path"
      ]
    },
    {
      "cell_type": "markdown",
      "id": "677b416a",
      "metadata": {
        "id": "677b416a"
      },
      "source": [
        "## 4. Create Gradio Interface"
      ]
    },
    {
      "cell_type": "code",
      "execution_count": 16,
      "id": "05d221d9",
      "metadata": {
        "id": "05d221d9"
      },
      "outputs": [],
      "source": [
        "# 5. Create Gradio interface with full-screen option\n",
        "with gr.Blocks(theme=gr.themes.Soft(), css=\".gradio-container {max-width: 1200px !important}\") as app:\n",
        "    gr.Markdown(\"# 🖼️ Image Classification App\")\n",
        "    gr.Markdown(\"Upload an image to classify and save results\")\n",
        "\n",
        "    with gr.Row():\n",
        "        with gr.Column(scale=1):\n",
        "            image_input = gr.Image(type=\"filepath\", label=\"Input Image\")\n",
        "            submit_btn = gr.Button(\"Classify & Save\", variant=\"primary\")\n",
        "\n",
        "            with gr.Accordion(\"Output Files\", open=False):\n",
        "                saved_image = gr.Image(label=\"Saved Image\", interactive=False)\n",
        "                csv_display = gr.File(label=\"Download Predictions\")\n",
        "\n",
        "        with gr.Column(scale=2):\n",
        "            label_output = gr.Label(label=\"Top Predictions\", num_top_classes=5)\n",
        "            plot_output = gr.BarPlot(\n",
        "                x=\"class\",\n",
        "                y=\"confidence\",\n",
        "                title=\"Prediction Confidence\",\n",
        "                vertical=False,\n",
        "                height=300\n",
        "            )\n",
        "\n",
        "    # Examples with full-screen option\n",
        "    examples = gr.Examples(\n",
        "        examples=[\n",
        "            [\"https://images.unsplash.com/photo-1514888286974-6c03e2ca1dba\"],\n",
        "            [\"https://images.unsplash.com/photo-1543852786-1cf6624b9987\"],\n",
        "            [\"https://images.unsplash.com/photo-1583512603805-3cc6b41f3edb\"]\n",
        "        ],\n",
        "        inputs=[image_input],\n",
        "        label=\"Example Images (click then press Classify)\",\n",
        "        examples_per_page=3\n",
        "    )\n",
        "\n",
        "    # Full-screen button\n",
        "    fullscreen_btn = gr.Button(\"Open Full Screen\", link=\"/?__theme=dark\")\n",
        "\n",
        "    # Processing function\n",
        "    def process_image(image):\n",
        "        results, img_path, csv_path = classify_and_save(image)\n",
        "\n",
        "        # Prepare plot data\n",
        "        sorted_results = sorted(results.items(), key=lambda x: x[1], reverse=True)\n",
        "        plot_data = pd.DataFrame({\n",
        "            \"class\": [k.split(\",\")[0] for k, v in sorted_results],\n",
        "            \"confidence\": [v for k, v in sorted_results]\n",
        "        })\n",
        "\n",
        "        return results, plot_data, img_path, csv_path\n",
        "\n",
        "    # Event handler\n",
        "    submit_btn.click(\n",
        "        fn=process_image,\n",
        "        inputs=image_input,\n",
        "        outputs=[label_output, plot_output, saved_image, csv_display]\n",
        "    )"
      ]
    },
    {
      "cell_type": "markdown",
      "id": "20ae6ccb",
      "metadata": {
        "id": "20ae6ccb"
      },
      "source": [
        "## 5. Launch the Web App"
      ]
    },
    {
      "cell_type": "code",
      "execution_count": 17,
      "id": "a79a6e70",
      "metadata": {
        "colab": {
          "base_uri": "https://localhost:8080/",
          "height": 650
        },
        "id": "a79a6e70",
        "outputId": "5067d2c2-6885-4f3f-94ef-b3ad977a11f3"
      },
      "outputs": [
        {
          "output_type": "stream",
          "name": "stdout",
          "text": [
            "It looks like you are running Gradio on a hosted a Jupyter notebook. For the Gradio app to work, sharing must be enabled. Automatically setting `share=True` (you can turn this off by setting `share=False` in `launch()` explicitly).\n",
            "\n",
            "Colab notebook detected. To show errors in colab notebook, set debug=True in launch()\n",
            "* Running on public URL: https://a28fa799b9091e8acb.gradio.live\n",
            "\n",
            "This share link expires in 1 week. For free permanent hosting and GPU upgrades, run `gradio deploy` from the terminal in the working directory to deploy to Hugging Face Spaces (https://huggingface.co/spaces)\n"
          ]
        },
        {
          "output_type": "display_data",
          "data": {
            "text/plain": [
              "<IPython.core.display.HTML object>"
            ],
            "text/html": [
              "<div><iframe src=\"https://a28fa799b9091e8acb.gradio.live\" width=\"100%\" height=\"500\" allow=\"autoplay; camera; microphone; clipboard-read; clipboard-write;\" frameborder=\"0\" allowfullscreen></iframe></div>"
            ]
          },
          "metadata": {}
        }
      ],
      "source": [
        "# 7. Launch the app\n",
        "if __name__ == \"__main__\":\n",
        "    app.launch()\n",
        "\n",
        "# Launch blocks demo (uncomment to run)\n",
        "# demo_app.launch()\n",
        "\n",
        "# Note: In notebook environments, use:\n",
        "# demo_app.launch(share=True, inbrowser=True)"
      ]
    },
    {
      "cell_type": "markdown",
      "id": "6511459e",
      "metadata": {
        "id": "6511459e"
      },
      "source": [
        "## 6. Deployment Options"
      ]
    },
    {
      "cell_type": "markdown",
      "id": "ff54db78",
      "metadata": {
        "id": "ff54db78"
      },
      "source": [
        "**Permanent Deployment Options**:\n",
        "- Hugging Face Spaces (free)\n",
        "- AWS/Azure/GCP cloud services\n",
        "- Docker containerization\n",
        "- Gradio sharing (temporary 72-hour link)\n",
        "\n",
        "[![Hugging Face Spaces](https://img.shields.io/badge/%F0%9F%A4%97%20Hugging%20Face-Spaces-blue)](https://huggingface.co/spaces)"
      ]
    },
    {
      "cell_type": "markdown",
      "id": "dfa41ad9",
      "metadata": {
        "id": "dfa41ad9"
      },
      "source": [
        "## 7. Create Requirements File for Deployment"
      ]
    },
    {
      "cell_type": "code",
      "execution_count": null,
      "id": "f4811f63",
      "metadata": {
        "id": "f4811f63"
      },
      "outputs": [],
      "source": [
        "%%writefile requirements.txt\n",
        "torch\n",
        "transformers\n",
        "gradio\n",
        "numpy\n",
        "Pillow\n",
        "matplotlib"
      ]
    }
  ],
  "metadata": {
    "kernelspec": {
      "display_name": "Python 3",
      "language": "python",
      "name": "python3"
    },
    "language_info": {
      "codemirror_mode": {
        "name": "ipython",
        "version": 3
      },
      "file_extension": ".py",
      "mimetype": "text/x-python",
      "name": "python",
      "nbconvert_exporter": "python",
      "pygments_lexer": "ipython3",
      "version": "3.8.5"
    },
    "colab": {
      "provenance": [],
      "include_colab_link": true
    }
  },
  "nbformat": 4,
  "nbformat_minor": 5
}
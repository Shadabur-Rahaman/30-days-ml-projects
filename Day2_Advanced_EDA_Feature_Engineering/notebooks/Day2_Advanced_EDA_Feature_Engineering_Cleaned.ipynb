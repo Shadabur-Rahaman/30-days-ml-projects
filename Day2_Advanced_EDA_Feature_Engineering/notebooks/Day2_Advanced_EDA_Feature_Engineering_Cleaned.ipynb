{
  "cells": [
    {
      "cell_type": "markdown",
      "metadata": {
        "id": "view-in-github",
        "colab_type": "text"
      },
      "source": [
        "<a href=\"https://colab.research.google.com/github/Shadabur-Rahaman/30-days-ml-projects/blob/main/Day2_Advanced_EDA_Feature_Engineering/notebooks/Day2_Advanced_EDA_Feature_Engineering_Cleaned.ipynb\" target=\"_parent\"><img src=\"https://colab.research.google.com/assets/colab-badge.svg\" alt=\"Open In Colab\"/></a>"
      ]
    },
    {
      "cell_type": "markdown",
      "id": "1ddcf5da",
      "metadata": {
        "id": "1ddcf5da"
      },
      "source": [
        "# 📓 Day 2 – Advanced EDA & Feature Engineering\n",
        "\n",
        "**Dataset Used:** Titanic / House Prices / Heart Disease / Your Own"
      ]
    },
    {
      "cell_type": "code",
      "execution_count": null,
      "id": "6e12bdd4",
      "metadata": {
        "id": "6e12bdd4"
      },
      "outputs": [],
      "source": [
        "# ========== 1. Setup ==========\n",
        "import pandas as pd\n",
        "import numpy as np\n",
        "import matplotlib.pyplot as plt\n",
        "import seaborn as sns\n",
        "import os\n",
        "\n",
        "# Optional: for clean visuals\n",
        "sns.set(style=\"whitegrid\")\n",
        "\n",
        "# If using kagglehub (requires API key setup)\n",
        "import kagglehub\n",
        "\n",
        "# Download latest version of the dataset\n",
        "path = kagglehub.dataset_download(\"mirichoi0218/insurance\")\n",
        "\n",
        "print(\"Path to dataset files:\", path)\n",
        "\n",
        "# List all files in the downloaded directory\n",
        "for file in os.listdir(path):\n",
        "    print(file)\n",
        "\n",
        "# Load the dataset (typically it's 'insurance.csv')\n",
        "df = pd.read_csv(os.path.join(path, \"insurance.csv\"))\n",
        "df.head()\n"
      ]
    },
    {
      "cell_type": "markdown",
      "id": "27640920",
      "metadata": {
        "id": "27640920"
      },
      "source": [
        "## 2. Automated EDA Report\n",
        "\n",
        "We'll use one of the popular EDA libraries: `pandas-profiling` or `sweetviz`.\n",
        "\n",
        "- These tools quickly show distributions, missing values, correlations, warnings, etc."
      ]
    },
    {
      "cell_type": "code",
      "execution_count": null,
      "id": "4fc3990a",
      "metadata": {
        "id": "4fc3990a"
      },
      "outputs": [],
      "source": [
        "import pandas as pd\n",
        "from ydata_profiling import ProfileReport\n",
        "\n",
        "# Load the uploaded dataset\n",
        "df = pd.read_csv(\"insurance.csv\")\n",
        "\n",
        "# Generate profiling report\n",
        "profile = ProfileReport(df, title=\"YData Profiling Report\", explorative=True)\n",
        "profile.to_file(\"ydata_profile_report.html\")\n",
        "\n",
        "# Display the report inside notebook (optional)\n",
        "profile.to_notebook_iframe()\n"
      ]
    },
    {
      "cell_type": "code",
      "execution_count": null,
      "id": "8c01bf80",
      "metadata": {
        "id": "8c01bf80"
      },
      "outputs": [],
      "source": [
        "import pandas as pd\n",
        "import sweetviz as sv\n",
        "\n",
        "df = pd.read_csv(\"insurance.csv\")\n",
        "\n",
        "report = sv.analyze(df)\n",
        "report.show_html(\"sweetviz_report.html\")\n"
      ]
    },
    {
      "cell_type": "markdown",
      "id": "a7c44e0b",
      "metadata": {
        "id": "a7c44e0b"
      },
      "source": [
        "## 3. Manual EDA\n",
        "\n",
        "Here we'll:\n",
        "- Check shape, datatypes, and missing values\n",
        "- Get descriptive stats\n",
        "- Plot distributions and correlations"
      ]
    },
    {
      "cell_type": "code",
      "execution_count": null,
      "id": "0d3cbee8",
      "metadata": {
        "id": "0d3cbee8"
      },
      "outputs": [],
      "source": [
        "import matplotlib.pyplot as plt\n",
        "import seaborn as sns\n",
        "# Overview\n",
        "print(df.shape)\n",
        "print(df.info())\n",
        "print(df.describe(include='all'))\n",
        "\n",
        "# Missing values\n",
        "df.isnull().sum()\n",
        "\n",
        "# Correlation heatmap\n",
        "plt.figure(figsize=(10, 6))\n",
        "sns.heatmap(df.corr(numeric_only=True), annot=True, cmap=\"coolwarm\")\n",
        "plt.title(\"Correlation Heatmap\")"
      ]
    },
    {
      "cell_type": "markdown",
      "id": "446ac669",
      "metadata": {
        "id": "446ac669"
      },
      "source": [
        "## 4. Data Visualization\n",
        "\n",
        "Helps in detecting skewness, outliers, class imbalance, and patterns."
      ]
    },
    {
      "cell_type": "code",
      "execution_count": null,
      "id": "1e3a0e2f",
      "metadata": {
        "id": "1e3a0e2f"
      },
      "outputs": [],
      "source": [
        "# Distribution of numerical features\n",
        "df.hist(bins=20, figsize=(15,10))\n",
        "\n",
        "# Pairplot (optional for small datasets)\n",
        "# sns.pairplot(df)\n",
        "\n",
        "# Categorical countplot\n",
        "# sns.countplot(x='target_column', data=df)  # Replace with actual target"
      ]
    },
    {
      "cell_type": "markdown",
      "id": "31007e0a",
      "metadata": {
        "id": "31007e0a"
      },
      "source": [
        "## 5. Feature Engineering\n",
        "\n",
        "Let's create meaningful features using domain knowledge, interaction terms, and encoding."
      ]
    },
    {
      "cell_type": "code",
      "execution_count": null,
      "id": "c15fd3cd",
      "metadata": {
        "id": "c15fd3cd"
      },
      "outputs": [],
      "source": [
        "import numpy as np\n",
        "import pandas as pd\n",
        "\n",
        "# Example 1: Create a new feature 'FamilySize' using 'children' + 1 (assuming 1 = yourself)\n",
        "df['FamilySize'] = df['children'] + 1\n",
        "\n",
        "# Example 2: Log transformation on 'charges' to reduce skewness\n",
        "df['charges_log'] = np.log1p(df['charges'])\n",
        "\n",
        "# Example 3: Binning age\n",
        "df['AgeBin'] = pd.cut(df['age'], bins=[0,12,18,35,60,100], labels=['Child','Teen','Young','Adult','Senior'])\n",
        "\n",
        "# Example 4: One-hot encoding for categorical variables like 'sex' and 'region'\n",
        "df = pd.get_dummies(df, columns=['sex', 'region'], drop_first=True)\n",
        "\n",
        "# Example 5: Interaction feature between age and bmi\n",
        "df['Age*BMI'] = df['age'] * df['bmi']\n"
      ]
    },
    {
      "cell_type": "markdown",
      "id": "8e823580",
      "metadata": {
        "id": "8e823580"
      },
      "source": [
        "## 6. Handle Missing Values\n",
        "\n",
        "Strategies:\n",
        "- Fill with median/mean/mode\n",
        "- Drop if too many missing\n",
        "- Use domain rules"
      ]
    },
    {
      "cell_type": "code",
      "execution_count": null,
      "id": "593c4074",
      "metadata": {
        "id": "593c4074"
      },
      "outputs": [],
      "source": [
        "# Fill missing 'age' values with the median (if any missing)\n",
        "df['age'].fillna(df['age'].median(), inplace=True)\n",
        "\n",
        "# Since there's no 'Cabin' column in your dataset, skip this step\n",
        "# df.dropna(subset=['Cabin'], inplace=True)  # Not applicable"
      ]
    },
    {
      "cell_type": "markdown",
      "id": "15452e31",
      "metadata": {
        "id": "15452e31"
      },
      "source": [
        "## 7. Save Cleaned Dataset"
      ]
    },
    {
      "cell_type": "code",
      "execution_count": null,
      "id": "de200703",
      "metadata": {
        "id": "de200703"
      },
      "outputs": [],
      "source": [
        "df.to_csv(\"cleaned_dataset.csv\", index=False)"
      ]
    },
    {
      "cell_type": "markdown",
      "id": "ec7514b1",
      "metadata": {
        "id": "ec7514b1"
      },
      "source": [
        "## 8. Summary of Insights\n",
        "\n",
        "- Key correlations found:\n",
        "  - Age vs Fare → Weak/Moderate correlation\n",
        "  - SibSp + Parch → Good for family feature\n",
        "\n",
        "- Engineered Features:\n",
        "  - FamilySize, AgeBin, Age*Fare, Fare_log\n",
        "  - One-hot encoded categorical variables\n",
        "\n",
        "- Missing Data:\n",
        "  - Age filled using median\n",
        "  - Cabin dropped due to heavy missing\n",
        "\n",
        "- Dataset ready for modeling tomorrow 🚀"
      ]
    }
  ],
  "metadata": {
    "colab": {
      "provenance": [],
      "include_colab_link": true
    },
    "kernelspec": {
      "display_name": "Python 3",
      "name": "python3"
    },
    "language_info": {
      "name": "python"
    }
  },
  "nbformat": 4,
  "nbformat_minor": 5
}
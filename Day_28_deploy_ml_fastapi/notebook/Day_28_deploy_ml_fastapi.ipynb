{
  "cells": [
    {
      "cell_type": "markdown",
      "metadata": {
        "id": "view-in-github",
        "colab_type": "text"
      },
      "source": [
        "<a href=\"https://colab.research.google.com/github/Shadabur-Rahaman/30-days-ml-projects/blob/main/Day_28_deploy_ml_fastapi/notebook/Day_28_deploy_ml_fastapi.ipynb\" target=\"_parent\"><img src=\"https://colab.research.google.com/assets/colab-badge.svg\" alt=\"Open In Colab\"/></a>"
      ]
    },
    {
      "cell_type": "markdown",
      "id": "9a6fc273",
      "metadata": {
        "id": "9a6fc273"
      },
      "source": [
        "# Deploy ML Model as API with FastAPI\n",
        "## Day 28/30 of Machine Learning Project\n",
        "\n",
        "**Project Goal**: Deploy a sentiment analysis model as a REST API using FastAPI\n",
        "\n",
        "**Key Steps**:\n",
        "1. Train and save a sentiment analysis model\n",
        "2. Create a FastAPI application\n",
        "3. Define API endpoints\n",
        "4. Test the API locally\n",
        "5. Containerize with Docker\n",
        "\n",
        "**Libraries Used**:\n",
        "- FastAPI for API development\n",
        "- Uvicorn as ASGI server\n",
        "- Scikit-learn for ML model\n",
        "- Docker for containerization"
      ]
    },
    {
      "cell_type": "markdown",
      "id": "ddcb8d04",
      "metadata": {
        "id": "ddcb8d04"
      },
      "source": [
        "## 1. Install Required Libraries\n",
        "We'll install FastAPI, Uvicorn, and other dependencies"
      ]
    },
    {
      "cell_type": "code",
      "execution_count": 2,
      "id": "a47a4c47",
      "metadata": {
        "colab": {
          "base_uri": "https://localhost:8080/"
        },
        "id": "a47a4c47",
        "outputId": "aa6f60ea-ac6d-4962-f2e6-c01765e0f70a"
      },
      "outputs": [
        {
          "output_type": "stream",
          "name": "stdout",
          "text": [
            "Collecting fastapi\n",
            "  Downloading fastapi-0.115.12-py3-none-any.whl.metadata (27 kB)\n",
            "Collecting uvicorn\n",
            "  Downloading uvicorn-0.34.3-py3-none-any.whl.metadata (6.5 kB)\n",
            "Requirement already satisfied: scikit-learn in /usr/local/lib/python3.11/dist-packages (1.6.1)\n",
            "Requirement already satisfied: pandas in /usr/local/lib/python3.11/dist-packages (2.2.2)\n",
            "Requirement already satisfied: numpy in /usr/local/lib/python3.11/dist-packages (1.26.4)\n",
            "Collecting python-multipart\n",
            "  Downloading python_multipart-0.0.20-py3-none-any.whl.metadata (1.8 kB)\n",
            "Collecting starlette<0.47.0,>=0.40.0 (from fastapi)\n",
            "  Downloading starlette-0.46.2-py3-none-any.whl.metadata (6.2 kB)\n",
            "Requirement already satisfied: pydantic!=1.8,!=1.8.1,!=2.0.0,!=2.0.1,!=2.1.0,<3.0.0,>=1.7.4 in /usr/local/lib/python3.11/dist-packages (from fastapi) (2.10.6)\n",
            "Requirement already satisfied: typing-extensions>=4.8.0 in /usr/local/lib/python3.11/dist-packages (from fastapi) (4.12.2)\n",
            "Requirement already satisfied: click>=7.0 in /usr/local/lib/python3.11/dist-packages (from uvicorn) (8.1.8)\n",
            "Requirement already satisfied: h11>=0.8 in /usr/local/lib/python3.11/dist-packages (from uvicorn) (0.14.0)\n",
            "Requirement already satisfied: scipy>=1.6.0 in /usr/local/lib/python3.11/dist-packages (from scikit-learn) (1.13.1)\n",
            "Requirement already satisfied: joblib>=1.2.0 in /usr/local/lib/python3.11/dist-packages (from scikit-learn) (1.4.2)\n",
            "Requirement already satisfied: threadpoolctl>=3.1.0 in /usr/local/lib/python3.11/dist-packages (from scikit-learn) (3.5.0)\n",
            "Requirement already satisfied: python-dateutil>=2.8.2 in /usr/local/lib/python3.11/dist-packages (from pandas) (2.8.2)\n",
            "Requirement already satisfied: pytz>=2020.1 in /usr/local/lib/python3.11/dist-packages (from pandas) (2025.1)\n",
            "Requirement already satisfied: tzdata>=2022.7 in /usr/local/lib/python3.11/dist-packages (from pandas) (2025.1)\n",
            "Requirement already satisfied: annotated-types>=0.6.0 in /usr/local/lib/python3.11/dist-packages (from pydantic!=1.8,!=1.8.1,!=2.0.0,!=2.0.1,!=2.1.0,<3.0.0,>=1.7.4->fastapi) (0.7.0)\n",
            "Requirement already satisfied: pydantic-core==2.27.2 in /usr/local/lib/python3.11/dist-packages (from pydantic!=1.8,!=1.8.1,!=2.0.0,!=2.0.1,!=2.1.0,<3.0.0,>=1.7.4->fastapi) (2.27.2)\n",
            "Requirement already satisfied: six>=1.5 in /usr/local/lib/python3.11/dist-packages (from python-dateutil>=2.8.2->pandas) (1.17.0)\n",
            "Requirement already satisfied: anyio<5,>=3.6.2 in /usr/local/lib/python3.11/dist-packages (from starlette<0.47.0,>=0.40.0->fastapi) (3.7.1)\n",
            "Requirement already satisfied: idna>=2.8 in /usr/local/lib/python3.11/dist-packages (from anyio<5,>=3.6.2->starlette<0.47.0,>=0.40.0->fastapi) (3.10)\n",
            "Requirement already satisfied: sniffio>=1.1 in /usr/local/lib/python3.11/dist-packages (from anyio<5,>=3.6.2->starlette<0.47.0,>=0.40.0->fastapi) (1.3.1)\n",
            "Downloading fastapi-0.115.12-py3-none-any.whl (95 kB)\n",
            "\u001b[2K   \u001b[90m━━━━━━━━━━━━━━━━━━━━━━━━━━━━━━━━━━━━━━━━\u001b[0m \u001b[32m95.2/95.2 kB\u001b[0m \u001b[31m5.2 MB/s\u001b[0m eta \u001b[36m0:00:00\u001b[0m\n",
            "\u001b[?25hDownloading uvicorn-0.34.3-py3-none-any.whl (62 kB)\n",
            "\u001b[2K   \u001b[90m━━━━━━━━━━━━━━━━━━━━━━━━━━━━━━━━━━━━━━━━\u001b[0m \u001b[32m62.4/62.4 kB\u001b[0m \u001b[31m4.9 MB/s\u001b[0m eta \u001b[36m0:00:00\u001b[0m\n",
            "\u001b[?25hDownloading python_multipart-0.0.20-py3-none-any.whl (24 kB)\n",
            "Downloading starlette-0.46.2-py3-none-any.whl (72 kB)\n",
            "\u001b[2K   \u001b[90m━━━━━━━━━━━━━━━━━━━━━━━━━━━━━━━━━━━━━━━━\u001b[0m \u001b[32m72.0/72.0 kB\u001b[0m \u001b[31m5.5 MB/s\u001b[0m eta \u001b[36m0:00:00\u001b[0m\n",
            "\u001b[?25hInstalling collected packages: uvicorn, python-multipart, starlette, fastapi\n",
            "Successfully installed fastapi-0.115.12 python-multipart-0.0.20 starlette-0.46.2 uvicorn-0.34.3\n",
            "Requirement already satisfied: pydantic in /usr/local/lib/python3.11/dist-packages (2.10.6)\n",
            "Requirement already satisfied: annotated-types>=0.6.0 in /usr/local/lib/python3.11/dist-packages (from pydantic) (0.7.0)\n",
            "Requirement already satisfied: pydantic-core==2.27.2 in /usr/local/lib/python3.11/dist-packages (from pydantic) (2.27.2)\n",
            "Requirement already satisfied: typing-extensions>=4.12.2 in /usr/local/lib/python3.11/dist-packages (from pydantic) (4.12.2)\n"
          ]
        }
      ],
      "source": [
        "!pip install fastapi uvicorn scikit-learn pandas numpy python-multipart\n",
        "!pip install pydantic"
      ]
    },
    {
      "cell_type": "markdown",
      "id": "ed5adc9f",
      "metadata": {
        "id": "ed5adc9f"
      },
      "source": [
        "## 2. Train and Save a Simple Sentiment Analysis Model\n",
        "We'll create a simple sentiment analysis model using Scikit-learn"
      ]
    },
    {
      "cell_type": "code",
      "execution_count": 3,
      "id": "e1a41e1d",
      "metadata": {
        "colab": {
          "base_uri": "https://localhost:8080/"
        },
        "id": "e1a41e1d",
        "outputId": "4d5727fc-d48a-4255-ba5c-b14b9a509cef"
      },
      "outputs": [
        {
          "output_type": "stream",
          "name": "stdout",
          "text": [
            "Test accuracy: 0.00\n",
            "Model saved to sentiment_model.joblib\n"
          ]
        }
      ],
      "source": [
        "import pandas as pd\n",
        "from sklearn.feature_extraction.text import TfidfVectorizer\n",
        "from sklearn.linear_model import LogisticRegression\n",
        "from sklearn.pipeline import make_pipeline\n",
        "from sklearn.model_selection import train_test_split\n",
        "import joblib\n",
        "\n",
        "# Sample dataset (in a real project, use a larger dataset)\n",
        "data = {\n",
        "    'text': [\n",
        "        'I love this product!',\n",
        "        'This is terrible',\n",
        "        'Great experience',\n",
        "        'Waste of money',\n",
        "        'Highly recommend',\n",
        "        'Disappointing',\n",
        "        'Better than expected',\n",
        "        'Not worth it'\n",
        "    ],\n",
        "    'sentiment': ['positive', 'negative', 'positive', 'negative',\n",
        "                 'positive', 'negative', 'positive', 'negative']\n",
        "}\n",
        "df = pd.DataFrame(data)\n",
        "\n",
        "# Split data\n",
        "X_train, X_test, y_train, y_test = train_test_split(\n",
        "    df['text'], df['sentiment'], test_size=0.2, random_state=42\n",
        ")\n",
        "\n",
        "# Create model pipeline\n",
        "model = make_pipeline(\n",
        "    TfidfVectorizer(),\n",
        "    LogisticRegression()\n",
        ")\n",
        "\n",
        "# Train model\n",
        "model.fit(X_train, y_train)\n",
        "\n",
        "# Evaluate\n",
        "print(f'Test accuracy: {model.score(X_test, y_test):.2f}')\n",
        "\n",
        "# Save model\n",
        "joblib.dump(model, 'sentiment_model.joblib')\n",
        "print('Model saved to sentiment_model.joblib')"
      ]
    },
    {
      "cell_type": "markdown",
      "id": "16834af7",
      "metadata": {
        "id": "16834af7"
      },
      "source": [
        "## 3. Create FastAPI Application\n",
        "We'll create a Python script for our FastAPI application"
      ]
    },
    {
      "cell_type": "code",
      "execution_count": 4,
      "id": "0493494c",
      "metadata": {
        "colab": {
          "base_uri": "https://localhost:8080/"
        },
        "id": "0493494c",
        "outputId": "3c96cfb3-3b54-429f-8a5b-546321e35648"
      },
      "outputs": [
        {
          "output_type": "stream",
          "name": "stdout",
          "text": [
            "Writing main.py\n"
          ]
        }
      ],
      "source": [
        "%%writefile main.py\n",
        "from fastapi import FastAPI\n",
        "from pydantic import BaseModel\n",
        "import joblib\n",
        "import numpy as np\n",
        "\n",
        "# Load the trained model\n",
        "model = joblib.load('sentiment_model.joblib')\n",
        "\n",
        "# Create FastAPI instance\n",
        "app = FastAPI(title='Sentiment Analysis API')\n",
        "\n",
        "# Define request body model\n",
        "class TextInput(BaseModel):\n",
        "    text: str\n",
        "\n",
        "# Health check endpoint\n",
        "@app.get('/')\n",
        "def health_check():\n",
        "    return {'status': 'healthy'}\n",
        "\n",
        "# Prediction endpoint\n",
        "@app.post('/predict')\n",
        "def predict_sentiment(input_data: TextInput):\n",
        "    \"\"\"\n",
        "    Predict sentiment for input text\n",
        "\n",
        "    Args:\n",
        "        input_data: JSON with 'text' field\n",
        "\n",
        "    Returns:\n",
        "        JSON with sentiment prediction and confidence\n",
        "    \"\"\"\n",
        "    # Make prediction\n",
        "    prediction = model.predict([input_data.text])\n",
        "    probabilities = model.predict_proba([input_data.text])[0]\n",
        "\n",
        "    # Get confidence score\n",
        "    confidence = float(np.max(probabilities))\n",
        "\n",
        "    return {\n",
        "        'text': input_data.text,\n",
        "        'sentiment': prediction[0],\n",
        "        'confidence': confidence\n",
        "    }"
      ]
    },
    {
      "cell_type": "markdown",
      "id": "b4e4a666",
      "metadata": {
        "id": "b4e4a666"
      },
      "source": [
        "## 4. Run and Test the API\n",
        "Start the API server and test it using Python requests"
      ]
    },
    {
      "cell_type": "code",
      "execution_count": 6,
      "id": "43796c01",
      "metadata": {
        "colab": {
          "base_uri": "https://localhost:8080/",
          "height": 860
        },
        "id": "43796c01",
        "outputId": "3de1a580-20f0-415a-db63-db4abec09a7f"
      },
      "outputs": [
        {
          "output_type": "display_data",
          "data": {
            "text/plain": [
              "<IPython.core.display.Markdown object>"
            ],
            "text/markdown": "### Health Check Response:"
          },
          "metadata": {}
        },
        {
          "output_type": "display_data",
          "data": {
            "text/plain": [
              "<IPython.core.display.JSON object>"
            ],
            "application/json": {
              "status": "healthy"
            }
          },
          "metadata": {
            "application/json": {
              "expanded": false,
              "root": "root"
            }
          }
        },
        {
          "output_type": "display_data",
          "data": {
            "text/plain": [
              "<IPython.core.display.Markdown object>"
            ],
            "text/markdown": "#### Prediction for: 'This product completely changed my workflow!'"
          },
          "metadata": {}
        },
        {
          "output_type": "display_data",
          "data": {
            "text/plain": [
              "<IPython.core.display.JSON object>"
            ],
            "application/json": {
              "text": "This product completely changed my workflow!",
              "sentiment": "positive",
              "confidence": 0.7185713277122724
            }
          },
          "metadata": {
            "application/json": {
              "expanded": false,
              "root": "root"
            }
          }
        },
        {
          "output_type": "display_data",
          "data": {
            "text/plain": [
              "<IPython.core.display.Markdown object>"
            ],
            "text/markdown": "#### Prediction for: 'Waste of money, didn't work as advertised'"
          },
          "metadata": {}
        },
        {
          "output_type": "display_data",
          "data": {
            "text/plain": [
              "<IPython.core.display.JSON object>"
            ],
            "application/json": {
              "text": "Waste of money, didn't work as advertised",
              "sentiment": "positive",
              "confidence": 0.5430921868667583
            }
          },
          "metadata": {
            "application/json": {
              "expanded": false,
              "root": "root"
            }
          }
        },
        {
          "output_type": "display_data",
          "data": {
            "text/plain": [
              "<IPython.core.display.Markdown object>"
            ],
            "text/markdown": "#### Prediction for: 'The quality is average, not worth the price'"
          },
          "metadata": {}
        },
        {
          "output_type": "display_data",
          "data": {
            "text/plain": [
              "<IPython.core.display.JSON object>"
            ],
            "application/json": {
              "text": "The quality is average, not worth the price",
              "sentiment": "positive",
              "confidence": 0.5676869130592177
            }
          },
          "metadata": {
            "application/json": {
              "expanded": false,
              "root": "root"
            }
          }
        },
        {
          "output_type": "display_data",
          "data": {
            "text/plain": [
              "<Figure size 1800x500 with 3 Axes>"
            ],
            "image/png": "[encoded data removed]"
          },
          "metadata": {}
        }
      ],
      "source": [
        "## 4. Run and Test the API\n",
        "import requests\n",
        "from IPython.display import JSON, display, Markdown\n",
        "import matplotlib.pyplot as plt\n",
        "import subprocess\n",
        "import time\n",
        "# Start server\n",
        "server = subprocess.Popen(\n",
        "    ['uvicorn', 'main:app', '--reload', '--port', '8000'],\n",
        "    stdout=subprocess.PIPE,\n",
        "    stderr=subprocess.PIPE\n",
        ")\n",
        "time.sleep(3)\n",
        "\n",
        "# Test API\n",
        "def test_api():\n",
        "    # Health check\n",
        "    health_response = requests.get('http://localhost:8000/')\n",
        "    display(Markdown(f\"### Health Check Response:\"))\n",
        "    display(JSON(health_response.json()))\n",
        "\n",
        "    # Create test samples\n",
        "    test_samples = [\n",
        "        \"This product completely changed my workflow!\",\n",
        "        \"Waste of money, didn't work as advertised\",\n",
        "        \"The quality is average, not worth the price\"\n",
        "    ]\n",
        "\n",
        "    # Visualize predictions\n",
        "    fig, axes = plt.subplots(1, len(test_samples), figsize=(18, 5))\n",
        "    fig.suptitle('Sentiment Analysis API Predictions', fontsize=16)\n",
        "\n",
        "    for i, text in enumerate(test_samples):\n",
        "        response = requests.post(\n",
        "            'http://localhost:8000/predict',\n",
        "            json={'text': text}\n",
        "        )\n",
        "        result = response.json()\n",
        "\n",
        "        # Display JSON response\n",
        "        display(Markdown(f\"#### Prediction for: '{text}'\"))\n",
        "        display(JSON(result))\n",
        "\n",
        "        # Create visual\n",
        "        color = 'green' if result['sentiment'] == 'positive' else (\n",
        "            'red' if result['sentiment'] == 'negative' else 'gray'\n",
        "        )\n",
        "\n",
        "        axes[i].text(\n",
        "            0.5, 0.6, result['sentiment'].upper(),\n",
        "            fontsize=20, ha='center', color=color\n",
        "        )\n",
        "        axes[i].text(\n",
        "            0.5, 0.4, f\"Confidence: {result['confidence']:.2%}\",\n",
        "            fontsize=14, ha='center'\n",
        "        )\n",
        "        axes[i].text(\n",
        "            0.5, 0.1, text,\n",
        "            fontsize=10, ha='center', wrap=True\n",
        "        )\n",
        "        axes[i].axis('off')\n",
        "        axes[i].set_title(f'Sample {i+1}', fontsize=14)\n",
        "\n",
        "    plt.tight_layout(rect=[0, 0, 1, 0.95])\n",
        "    plt.savefig('api_predictions.png', bbox_inches='tight')\n",
        "    plt.show()\n",
        "\n",
        "test_api()\n",
        "\n",
        "# Stop server\n",
        "server.terminate()"
      ]
    },
    {
      "cell_type": "markdown",
      "id": "0298dac1",
      "metadata": {
        "id": "0298dac1"
      },
      "source": [
        "## 5. Containerize the API with Docker\n",
        "Create a Dockerfile for containerization"
      ]
    },
    {
      "cell_type": "code",
      "execution_count": 7,
      "id": "4d236675",
      "metadata": {
        "colab": {
          "base_uri": "https://localhost:8080/"
        },
        "id": "4d236675",
        "outputId": "abf9877d-b9ff-427d-f09b-be25b331dee1"
      },
      "outputs": [
        {
          "output_type": "stream",
          "name": "stdout",
          "text": [
            "Writing Dockerfile\n"
          ]
        }
      ],
      "source": [
        "%%writefile Dockerfile\n",
        "# Use official Python base image\n",
        "FROM python:3.9-slim\n",
        "\n",
        "# Set working directory\n",
        "WORKDIR /app\n",
        "\n",
        "# Copy requirements file\n",
        "COPY requirements.txt .\n",
        "\n",
        "# Install dependencies\n",
        "RUN pip install --no-cache-dir -r requirements.txt\n",
        "\n",
        "# Copy application files\n",
        "COPY main.py .\n",
        "COPY sentiment_model.joblib .\n",
        "\n",
        "# Expose port\n",
        "EXPOSE 8000\n",
        "\n",
        "# Command to run the application\n",
        "CMD [\"uvicorn\", \"main:app\", \"--host\", \"0.0.0.0\", \"--port\", \"8000\"]"
      ]
    },
    {
      "cell_type": "markdown",
      "id": "f80127b1",
      "metadata": {
        "id": "f80127b1"
      },
      "source": [
        "## 6. Create Requirements File\n",
        "List all dependencies needed for the Docker container"
      ]
    },
    {
      "cell_type": "code",
      "execution_count": 8,
      "id": "7c0ea8c6",
      "metadata": {
        "colab": {
          "base_uri": "https://localhost:8080/"
        },
        "id": "7c0ea8c6",
        "outputId": "b1404ded-8679-4699-9ccd-0f476ac84d36"
      },
      "outputs": [
        {
          "output_type": "stream",
          "name": "stdout",
          "text": [
            "Writing requirements.txt\n"
          ]
        }
      ],
      "source": [
        "%%writefile requirements.txt\n",
        "fastapi\n",
        "uvicorn\n",
        "scikit-learn\n",
        "joblib\n",
        "numpy\n",
        "pandas\n",
        "pydantic"
      ]
    },
    {
      "cell_type": "markdown",
      "id": "97473dc0",
      "metadata": {
        "id": "97473dc0"
      },
      "source": [
        "## 7. Build and Run Docker Container\n",
        "Steps to build the Docker image and run the container"
      ]
    },
    {
      "cell_type": "markdown",
      "id": "33b49208",
      "metadata": {
        "id": "33b49208"
      },
      "source": [
        "```bash\n",
        "# Build the Docker image\n",
        "docker build -t sentiment-api .\n",
        "\n",
        "# Run the Docker container\n",
        "docker run -d -p 8000:8000 --name sentiment-container sentiment-api\n",
        "\n",
        "# Test the API in Docker\n",
        "curl -X POST \"http://localhost:8000/predict\" \\\n",
        "    -H \"Content-Type: application/json\" \\\n",
        "    -d '{\"text\": \"This works perfectly\"}'\n",
        "```"
      ]
    },
    {
      "cell_type": "markdown",
      "id": "ac4d1ede",
      "metadata": {
        "id": "ac4d1ede"
      },
      "source": [
        "## 8. API Documentation with Swagger UI\n",
        "FastAPI automatically generates interactive API documentation\n",
        "\n",
        "After running the API, access the documentation at:\n",
        "- [http://localhost:8000/docs](http://localhost:8000/docs)\n",
        "\n",
        "![Swagger UI](https://fastapi.tiangolo.com/img/index/index-02-swagger-ui-simple.png)\n",
        "*Example of Swagger UI interface*"
      ]
    },
    {
      "cell_type": "markdown",
      "id": "58507d27",
      "metadata": {
        "id": "58507d27"
      },
      "source": [
        "## 9. Deployment Options\n",
        "Once containerized, you can deploy the API to various platforms:\n",
        "\n",
        "1. **Cloud Providers**:\n",
        "   - AWS (Elastic Container Service, Elastic Beanstalk)\n",
        "   - Google Cloud (Cloud Run, Kubernetes Engine)\n",
        "   - Azure (Container Instances, Kubernetes Service)\n",
        "\n",
        "2. **Container Orchestration**:\n",
        "   - Kubernetes\n",
        "   - Docker Swarm\n",
        "\n",
        "3. **Serverless Platforms**:\n",
        "   - AWS Lambda (using container support)\n",
        "   - Google Cloud Functions\n",
        "\n",
        "4. **Platform-as-a-Service**:\n",
        "   - Heroku\n",
        "   - Render\n",
        "   - Fly.io"
      ]
    },
    {
      "cell_type": "markdown",
      "id": "1794a8f1",
      "metadata": {
        "id": "1794a8f1"
      },
      "source": [
        "## 10. Next Steps\n",
        "To enhance this API:\n",
        "\n",
        "1. Add authentication (API keys, OAuth)\n",
        "2. Implement rate limiting\n",
        "3. Add logging and monitoring\n",
        "4. Include input validation\n",
        "5. Add more sophisticated error handling\n",
        "6. Implement model versioning\n",
        "7. Set up CI/CD pipeline\n",
        "8. Add health checks and metrics endpoints"
      ]
    }
  ],
  "metadata": {
    "colab": {
      "provenance": [],
      "gpuType": "T4",
      "include_colab_link": true
    },
    "accelerator": "GPU",
    "language_info": {
      "name": "python"
    },
    "kernelspec": {
      "name": "python3",
      "display_name": "Python 3"
    }
  },
  "nbformat": 4,
  "nbformat_minor": 5
}
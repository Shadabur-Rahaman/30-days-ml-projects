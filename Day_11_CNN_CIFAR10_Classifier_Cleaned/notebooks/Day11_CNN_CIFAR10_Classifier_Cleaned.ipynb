{
  "cells": [
    {
      "cell_type": "markdown",
      "metadata": {
        "id": "view-in-github",
        "colab_type": "text"
      },
      "source": [
        "<a href=\"https://colab.research.google.com/github/Shadabur-Rahaman/30-days-ml-projects/blob/main/Day_11_CNN_CIFAR10_Classifier_Cleaned/notebooks/Day11_CNN_CIFAR10_Classifier_Cleaned.ipynb\" target=\"_parent\"><img src=\"https://colab.research.google.com/assets/colab-badge.svg\" alt=\"Open In Colab\"/></a>"
      ]
    },
    {
      "cell_type": "markdown",
      "metadata": {
        "id": "5C5ArKR2AcS4"
      },
      "source": [
        "# 🔢 Day 11: CNN for Image Classification (CIFAR-10 Dataset)\n",
        "\n",
        "In this notebook, we'll build a **Convolutional Neural Network (CNN)** using Keras to classify images from the **CIFAR-10** dataset.\n",
        "\n",
        "### Objectives:\n",
        "- Load the CIFAR-10 dataset\n",
        "- Preprocess and visualize the data\n",
        "- Build and train a CNN\n",
        "- Evaluate performance\n",
        "- Visualize training curves and predictions"
      ],
      "id": "5C5ArKR2AcS4"
    },
    {
      "cell_type": "code",
      "execution_count": 1,
      "metadata": {
        "id": "1UHe4FawAcS6"
      },
      "outputs": [],
      "source": [
        "# 📦 Import Libraries\n",
        "import numpy as np\n",
        "import matplotlib.pyplot as plt\n",
        "import seaborn as sns\n",
        "from tensorflow.keras.datasets import cifar10\n",
        "from tensorflow.keras.utils import to_categorical\n",
        "from tensorflow.keras.models import Sequential\n",
        "from tensorflow.keras.layers import Conv2D, MaxPooling2D, Flatten, Dense, Dropout\n",
        "from sklearn.metrics import classification_report, confusion_matrix"
      ],
      "id": "1UHe4FawAcS6"
    },
    {
      "cell_type": "code",
      "execution_count": 2,
      "metadata": {
        "colab": {
          "base_uri": "https://localhost:8080/"
        },
        "id": "KUgtD4pxAcS8",
        "outputId": "18710c89-d3d0-4bb6-d9ce-2a9af3cdaa5b"
      },
      "outputs": [
        {
          "output_type": "stream",
          "name": "stdout",
          "text": [
            "Downloading data from https://www.cs.toronto.edu/~kriz/cifar-10-python.tar.gz\n",
            "\u001b[1m170498071/170498071\u001b[0m \u001b[32m━━━━━━━━━━━━━━━━━━━━\u001b[0m\u001b[37m\u001b[0m \u001b[1m2s\u001b[0m 0us/step\n"
          ]
        }
      ],
      "source": [
        "# 📥 Load and Preprocess Data\n",
        "(x_train, y_train), (x_test, y_test) = cifar10.load_data()\n",
        "\n",
        "x_train = x_train.astype('float32') / 255.0\n",
        "x_test = x_test.astype('float32') / 255.0\n",
        "\n",
        "y_train_cat = to_categorical(y_train, 10)\n",
        "y_test_cat = to_categorical(y_test, 10)"
      ],
      "id": "KUgtD4pxAcS8"
    },
    {
      "cell_type": "code",
      "execution_count": null,
      "metadata": {
        "id": "B5A4M0vqAcS9"
      },
      "outputs": [],
      "source": [
        "# 🖼️ Visualize Some Images\n",
        "class_names = ['airplane','automobile','bird','cat','deer','dog','frog','horse','ship','truck']\n",
        "\n",
        "plt.figure(figsize=(10,4))\n",
        "for i in range(10):\n",
        "    plt.subplot(2, 5, i+1)\n",
        "    plt.imshow(x_train[i])\n",
        "    plt.title(class_names[int(y_train[i])])\n",
        "    plt.axis('off')\n",
        "plt.tight_layout()\n",
        "plt.show()"
      ],
      "id": "B5A4M0vqAcS9"
    },
    {
      "cell_type": "code",
      "execution_count": null,
      "metadata": {
        "id": "tg4AbP0uAcS9"
      },
      "outputs": [],
      "source": [
        "# 🧠 Build CNN Model\n",
        "model = Sequential([\n",
        "    Conv2D(32, (3,3), activation='relu', input_shape=(32,32,3)),\n",
        "    MaxPooling2D((2,2)),\n",
        "    Conv2D(64, (3,3), activation='relu'),\n",
        "    MaxPooling2D((2,2)),\n",
        "    Conv2D(128, (3,3), activation='relu'),\n",
        "    Flatten(),\n",
        "    Dense(128, activation='relu'),\n",
        "    Dropout(0.5),\n",
        "    Dense(10, activation='softmax')\n",
        "])\n",
        "\n",
        "model.compile(optimizer='adam', loss='categorical_crossentropy', metrics=['accuracy'])\n",
        "model.summary()"
      ],
      "id": "tg4AbP0uAcS9"
    },
    {
      "cell_type": "code",
      "execution_count": null,
      "metadata": {
        "id": "qiN1tGcUAcS-"
      },
      "outputs": [],
      "source": [
        "# 🏋️ Train the Model\n",
        "history = model.fit(x_train, y_train_cat, epochs=10, batch_size=64, validation_split=0.1)"
      ],
      "id": "qiN1tGcUAcS-"
    },
    {
      "cell_type": "code",
      "execution_count": null,
      "metadata": {
        "id": "ZqqJa-LeAcS-"
      },
      "outputs": [],
      "source": [
        "# 📈 Evaluate the Model\n",
        "test_loss, test_acc = model.evaluate(x_test, y_test_cat)\n",
        "print(f\"Test Accuracy: {test_acc:.4f}\")"
      ],
      "id": "ZqqJa-LeAcS-"
    },
    {
      "cell_type": "code",
      "execution_count": null,
      "metadata": {
        "id": "ivEKYiAzAcS_"
      },
      "outputs": [],
      "source": [
        "# 📊 Plot Accuracy and Loss\n",
        "plt.plot(history.history['accuracy'], label='Train Accuracy')\n",
        "plt.plot(history.history['val_accuracy'], label='Val Accuracy')\n",
        "plt.title('Model Accuracy')\n",
        "plt.xlabel('Epoch')\n",
        "plt.ylabel('Accuracy')\n",
        "plt.legend()\n",
        "plt.grid(True)\n",
        "plt.show()\n",
        "\n",
        "plt.plot(history.history['loss'], label='Train Loss')\n",
        "plt.plot(history.history['val_loss'], label='Val Loss')\n",
        "plt.title('Model Loss')\n",
        "plt.xlabel('Epoch')\n",
        "plt.ylabel('Loss')\n",
        "plt.legend()\n",
        "plt.grid(True)\n",
        "plt.show()"
      ],
      "id": "ivEKYiAzAcS_"
    }
  ],
  "metadata": {
    "kernelspec": {
      "display_name": "Python 3",
      "language": "python",
      "name": "python3"
    },
    "language_info": {
      "name": "python",
      "version": "3.8"
    },
    "colab": {
      "provenance": [],
      "include_colab_link": true
    }
  },
  "nbformat": 4,
  "nbformat_minor": 5
}
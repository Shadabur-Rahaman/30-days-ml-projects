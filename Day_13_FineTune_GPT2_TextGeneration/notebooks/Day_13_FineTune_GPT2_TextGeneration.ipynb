{
  "cells": [
    {
      "cell_type": "markdown",
      "metadata": {
        "id": "view-in-github",
        "colab_type": "text"
      },
      "source": [
        "<a href=\"https://colab.research.google.com/github/Shadabur-Rahaman/30-days-ml-projects/blob/main/Day_13_FineTune_GPT2_TextGeneration/notebooks/Day_13_FineTune_GPT2_TextGeneration.ipynb\" target=\"_parent\"><img src=\"https://colab.research.google.com/assets/colab-badge.svg\" alt=\"Open In Colab\"/></a>"
      ]
    },
    {
      "cell_type": "markdown",
      "id": "bc44f490",
      "metadata": {
        "id": "bc44f490"
      },
      "source": [
        "# 📦 Install & Import Libraries\n",
        "Run this cell once at the top of your notebook"
      ]
    },
    {
      "cell_type": "code",
      "execution_count": null,
      "id": "435c425c",
      "metadata": {
        "id": "435c425c"
      },
      "outputs": [],
      "source": [
        "!pip install transformers==4.41.2 datasets==2.19.1 torch tqdm --quiet\n",
        "\n",
        "import os\n",
        "import torch\n",
        "from torch.utils.data import Dataset, DataLoader\n",
        "from transformers import GPT2Tokenizer, GPT2LMHeadModel, AdamW\n",
        "from datasets import load_dataset\n",
        "from tqdm import tqdm"
      ]
    },
    {
      "cell_type": "markdown",
      "id": "ec3d1005",
      "metadata": {
        "id": "ec3d1005"
      },
      "source": [
        "# 📂 Create Output Directories"
      ]
    },
    {
      "cell_type": "code",
      "execution_count": null,
      "id": "e7dca0fa",
      "metadata": {
        "id": "e7dca0fa"
      },
      "outputs": [],
      "source": [
        "# Create directory for model checkpoints\n",
        "os.makedirs(\"model_checkpoints\", exist_ok=True)"
      ]
    },
    {
      "cell_type": "markdown",
      "id": "cec849ec",
      "metadata": {
        "id": "cec849ec"
      },
      "source": [
        "# 📝 Load & Prepare Dataset"
      ]
    },
    {
      "cell_type": "code",
      "execution_count": null,
      "id": "b7bbf039",
      "metadata": {
        "id": "b7bbf039"
      },
      "outputs": [],
      "source": [
        "# Load a small slice of WikiText-2 for demo\n",
        "raw_dataset = load_dataset(\"wikitext\", \"wikitext-2-raw-v1\", split=\"train[:1%]\")"
      ]
    },
    {
      "cell_type": "markdown",
      "id": "b291356c",
      "metadata": {
        "id": "b291356c"
      },
      "source": [
        "# 🔍 Initialize Tokenizer & Model"
      ]
    },
    {
      "cell_type": "code",
      "execution_count": null,
      "id": "f7e23c03",
      "metadata": {
        "id": "f7e23c03"
      },
      "outputs": [],
      "source": [
        "# Load GPT-2 tokenizer and model\n",
        "tokenizer = GPT2Tokenizer.from_pretrained(\"gpt2\")\n",
        "tokenizer.pad_token = tokenizer.eos_token\n",
        "\n",
        "model = GPT2LMHeadModel.from_pretrained(\"gpt2\")\n",
        "model.resize_token_embeddings(len(tokenizer))\n",
        "\n",
        "device = torch.device(\"cuda\" if torch.cuda.is_available() else \"cpu\")\n",
        "model.to(device)"
      ]
    },
    {
      "cell_type": "markdown",
      "id": "4758ae9a",
      "metadata": {
        "id": "4758ae9a"
      },
      "source": [
        "# 🔢 Tokenize the Dataset"
      ]
    },
    {
      "cell_type": "code",
      "execution_count": null,
      "id": "81b40f6d",
      "metadata": {
        "id": "81b40f6d"
      },
      "outputs": [],
      "source": [
        "def tokenize_batch(examples):\n",
        "    return tokenizer(\n",
        "        examples[\"text\"],\n",
        "        truncation=True,\n",
        "        padding=\"max_length\",\n",
        "        max_length=64\n",
        "    )\n",
        "\n",
        "tokenized = raw_dataset.map(tokenize_batch, batched=True)"
      ]
    },
    {
      "cell_type": "markdown",
      "id": "2bd966e6",
      "metadata": {
        "id": "2bd966e6"
      },
      "source": [
        "# 🧰 Convert to PyTorch Dataset & DataLoader"
      ]
    },
    {
      "cell_type": "code",
      "execution_count": null,
      "id": "35e2eb3d",
      "metadata": {
        "id": "35e2eb3d"
      },
      "outputs": [],
      "source": [
        "class TextDataset(Dataset):\n",
        "    def __init__(self, hf_dataset):\n",
        "        self.examples = hf_dataset\n",
        "\n",
        "    def __len__(self):\n",
        "        return len(self.examples)\n",
        "\n",
        "    def __getitem__(self, idx):\n",
        "        enc = self.examples[idx]\n",
        "        return {\n",
        "            \"input_ids\": torch.tensor(enc[\"input_ids\"], dtype=torch.long),\n",
        "            \"attention_mask\": torch.tensor(enc[\"attention_mask\"], dtype=torch.long),\n",
        "        }\n",
        "\n",
        "train_dataset = TextDataset(tokenized)\n",
        "dataloader = DataLoader(train_dataset, batch_size=2, shuffle=True)"
      ]
    },
    {
      "cell_type": "markdown",
      "id": "3694719c",
      "metadata": {
        "id": "3694719c"
      },
      "source": [
        "# 🔄 Fine-Tuning Loop"
      ]
    },
    {
      "cell_type": "code",
      "execution_count": null,
      "id": "7a858cd6",
      "metadata": {
        "id": "7a858cd6"
      },
      "outputs": [],
      "source": [
        "optimizer = AdamW(model.parameters(), lr=5e-5)\n",
        "num_epochs = 3\n",
        "\n",
        "model.train()\n",
        "for epoch in range(num_epochs):\n",
        "    loop = tqdm(dataloader, desc=f\"Epoch {epoch+1}/{num_epochs}\", leave=True)\n",
        "    for batch in loop:\n",
        "        optimizer.zero_grad()\n",
        "        input_ids = batch[\"input_ids\"].to(device)\n",
        "        attention_mask = batch[\"attention_mask\"].to(device)\n",
        "\n",
        "        outputs = model(\n",
        "            input_ids=input_ids,\n",
        "            attention_mask=attention_mask,\n",
        "            labels=input_ids,  # GPT-2 causal LM uses inputs as labels\n",
        "        )\n",
        "        loss = outputs.loss\n",
        "        loss.backward()\n",
        "        optimizer.step()\n",
        "\n",
        "        loop.set_postfix(loss=loss.item())\n",
        "\n",
        "    # Save checkpoint\n",
        "    ckpt_path = f\"model_checkpoints/gpt2_epoch{epoch+1}.pt\"\n",
        "    torch.save(model.state_dict(), ckpt_path)\n",
        "    print(f\"✅ Checkpoint saved: {ckpt_path}\")"
      ]
    },
    {
      "cell_type": "markdown",
      "id": "53ffaba4",
      "metadata": {
        "id": "53ffaba4"
      },
      "source": [
        "# ✨ Generate & Save Sample Outputs"
      ]
    },
    {
      "cell_type": "code",
      "execution_count": null,
      "id": "443f3b3c",
      "metadata": {
        "id": "443f3b3c"
      },
      "outputs": [],
      "source": [
        "model.eval()\n",
        "\n",
        "prompt = \"Once upon a time\"\n",
        "input_ids = tokenizer.encode(prompt, return_tensors=\"pt\").to(device)\n",
        "\n",
        "generated = model.generate(\n",
        "    input_ids,\n",
        "    max_length=100,\n",
        "    num_return_sequences=3,\n",
        "    no_repeat_ngram_size=2,\n",
        "    do_sample=True,\n",
        "    top_k=50,\n",
        "    top_p=0.95,\n",
        "    temperature=0.7,\n",
        ")\n",
        "\n",
        "with open(\"generated_text_samples.txt\", \"w\") as f:\n",
        "    for i, gen_ids in enumerate(generated, 1):\n",
        "        text = tokenizer.decode(gen_ids, skip_special_tokens=True)\n",
        "        f.write(f\"=== Sample {i} ===\\n{text}\\n\\n\")\n",
        "print(\"✅ Generated samples saved to generated_text_samples.txt\")"
      ]
    }
  ],
  "metadata": {
    "colab": {
      "provenance": [],
      "include_colab_link": true
    }
  },
  "nbformat": 4,
  "nbformat_minor": 5
}